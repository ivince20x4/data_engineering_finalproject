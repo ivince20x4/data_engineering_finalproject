{
 "cells": [
  {
   "cell_type": "markdown",
   "metadata": {},
   "source": [
    "#### DATA ENGINEERING PLATFORMS FINAL PROJECT\n",
    "#### Analysis on Life Expectancy and Social Economic Status in US States\n"
   ]
  },
  {
   "cell_type": "markdown",
   "metadata": {},
   "source": [
    "- There are very diverse estimates on life expectancy for US citizens based on different silo demographic variables e.g. gender, race, state, income bracket, mortality. \n",
    "- Our goal is to help government agencies to integrate life expectancy and refine the estimates for the overall person's life expectancy using regression analysis to identify which variable is most sensitive to life expectancy\n",
    "- Using the model, we will try estimate overall person's life expectancy for the period of 2008-2017"
   ]
  },
  {
   "cell_type": "markdown",
   "metadata": {},
   "source": [
    "#### Install packages and import libraries"
   ]
  },
  {
   "cell_type": "code",
   "execution_count": 1,
   "metadata": {},
   "outputs": [],
   "source": [
    "#!pip install pymysql  "
   ]
  },
  {
   "cell_type": "code",
   "execution_count": 1,
   "metadata": {},
   "outputs": [],
   "source": [
    "import pymysql\n",
    "import pandas as pd  \n",
    "import numpy as np\n",
    "import seaborn as sns\n",
    "import matplotlib.pyplot as plt\n",
    "import statsmodels.api as sm\n",
    "import statsmodels.formula.api as smf\n",
    "import statsmodels.stats.multicomp\n",
    "import scipy.stats\n",
    "from scipy.stats import spearmanr\n",
    "from pylab import rcParams\n",
    "import warnings\n",
    "warnings.filterwarnings(\"ignore\")\n",
    "%matplotlib inline"
   ]
  },
  {
   "cell_type": "markdown",
   "metadata": {},
   "source": [
    "#### Import libraries"
   ]
  },
  {
   "cell_type": "markdown",
   "metadata": {},
   "source": [
    "# Database connection and function to query via select"
   ]
  },
  {
   "cell_type": "code",
   "execution_count": 2,
   "metadata": {},
   "outputs": [],
   "source": [
    "# Create a function for easily querying data.\n",
    "def qry(sql):\n",
    "\n",
    "    # Open database connection to Google Cloud Platform\n",
    "    connection = pymysql.connect(\"34.68.61.233\",\"vince\",\"root\",\"lifeexpdw\" )\n",
    "    df = pd.read_sql(sql, connection)\n",
    "\n",
    "    # disconnect from server\n",
    "    connection.commit()\n",
    "    connection.close()\n",
    "    \n",
    "    # return data.\n",
    "    return df"
   ]
  },
  {
   "cell_type": "code",
   "execution_count": 3,
   "metadata": {},
   "outputs": [],
   "source": [
    "#creating another function for executing non-SELECT functions\n",
    "def execute(sql):\n",
    "\n",
    "    # Open database connection\n",
    "    connection = pymysql.connect(\"34.68.61.233\",\"vince\",\"root\",\"lifeexpdw\" )\n",
    "    my_database = connection.cursor()\n",
    "    df = my_database.execute(sql)\n",
    "    \n",
    "    # disconnect from server\n",
    "    connection.commit()\n",
    "    connection.close()\n",
    "    \n",
    "    # return data.\n",
    "    return df"
   ]
  },
  {
   "cell_type": "markdown",
   "metadata": {},
   "source": [
    "####  Select lifeexpdw database."
   ]
  },
  {
   "cell_type": "code",
   "execution_count": 4,
   "metadata": {},
   "outputs": [
    {
     "data": {
      "text/html": [
       "<div>\n",
       "<style scoped>\n",
       "    .dataframe tbody tr th:only-of-type {\n",
       "        vertical-align: middle;\n",
       "    }\n",
       "\n",
       "    .dataframe tbody tr th {\n",
       "        vertical-align: top;\n",
       "    }\n",
       "\n",
       "    .dataframe thead th {\n",
       "        text-align: right;\n",
       "    }\n",
       "</style>\n",
       "<table border=\"1\" class=\"dataframe\">\n",
       "  <thead>\n",
       "    <tr style=\"text-align: right;\">\n",
       "      <th></th>\n",
       "      <th>Database</th>\n",
       "    </tr>\n",
       "  </thead>\n",
       "  <tbody>\n",
       "    <tr>\n",
       "      <th>0</th>\n",
       "      <td>information_schema</td>\n",
       "    </tr>\n",
       "    <tr>\n",
       "      <th>1</th>\n",
       "      <td>lifeexpdw</td>\n",
       "    </tr>\n",
       "    <tr>\n",
       "      <th>2</th>\n",
       "      <td>mysql</td>\n",
       "    </tr>\n",
       "    <tr>\n",
       "      <th>3</th>\n",
       "      <td>performance_schema</td>\n",
       "    </tr>\n",
       "    <tr>\n",
       "      <th>4</th>\n",
       "      <td>sys</td>\n",
       "    </tr>\n",
       "  </tbody>\n",
       "</table>\n",
       "</div>"
      ],
      "text/plain": [
       "             Database\n",
       "0  information_schema\n",
       "1           lifeexpdw\n",
       "2               mysql\n",
       "3  performance_schema\n",
       "4                 sys"
      ]
     },
     "execution_count": 4,
     "metadata": {},
     "output_type": "execute_result"
    }
   ],
   "source": [
    "sql = \"SHOW DATABASES;\"\n",
    "qry(sql)"
   ]
  },
  {
   "cell_type": "code",
   "execution_count": 5,
   "metadata": {},
   "outputs": [
    {
     "data": {
      "text/plain": [
       "0"
      ]
     },
     "execution_count": 5,
     "metadata": {},
     "output_type": "execute_result"
    }
   ],
   "source": [
    "execute(\"USE lifeexpdw;\")"
   ]
  },
  {
   "cell_type": "markdown",
   "metadata": {},
   "source": [
    "#### Show all tables in the sakila database."
   ]
  },
  {
   "cell_type": "code",
   "execution_count": 6,
   "metadata": {},
   "outputs": [
    {
     "data": {
      "text/html": [
       "<div>\n",
       "<style scoped>\n",
       "    .dataframe tbody tr th:only-of-type {\n",
       "        vertical-align: middle;\n",
       "    }\n",
       "\n",
       "    .dataframe tbody tr th {\n",
       "        vertical-align: top;\n",
       "    }\n",
       "\n",
       "    .dataframe thead th {\n",
       "        text-align: right;\n",
       "    }\n",
       "</style>\n",
       "<table border=\"1\" class=\"dataframe\">\n",
       "  <thead>\n",
       "    <tr style=\"text-align: right;\">\n",
       "      <th></th>\n",
       "      <th>Tables_in_lifeexpdw</th>\n",
       "    </tr>\n",
       "  </thead>\n",
       "  <tbody>\n",
       "    <tr>\n",
       "      <th>0</th>\n",
       "      <td>dim_gender</td>\n",
       "    </tr>\n",
       "    <tr>\n",
       "      <th>1</th>\n",
       "      <td>dim_income</td>\n",
       "    </tr>\n",
       "    <tr>\n",
       "      <th>2</th>\n",
       "      <td>dim_race</td>\n",
       "    </tr>\n",
       "    <tr>\n",
       "      <th>3</th>\n",
       "      <td>dim_state</td>\n",
       "    </tr>\n",
       "    <tr>\n",
       "      <th>4</th>\n",
       "      <td>dim_year</td>\n",
       "    </tr>\n",
       "    <tr>\n",
       "      <th>5</th>\n",
       "      <td>fact_personlifeexp</td>\n",
       "    </tr>\n",
       "  </tbody>\n",
       "</table>\n",
       "</div>"
      ],
      "text/plain": [
       "  Tables_in_lifeexpdw\n",
       "0          dim_gender\n",
       "1          dim_income\n",
       "2            dim_race\n",
       "3           dim_state\n",
       "4            dim_year\n",
       "5  fact_personlifeexp"
      ]
     },
     "execution_count": 6,
     "metadata": {},
     "output_type": "execute_result"
    }
   ],
   "source": [
    "sql = \"SHOW TABLES;\"\n",
    "qry(sql)"
   ]
  },
  {
   "cell_type": "markdown",
   "metadata": {},
   "source": [
    "# Show each of the columns along with their data types for each table"
   ]
  },
  {
   "cell_type": "code",
   "execution_count": 7,
   "metadata": {},
   "outputs": [
    {
     "data": {
      "text/html": [
       "<div>\n",
       "<style scoped>\n",
       "    .dataframe tbody tr th:only-of-type {\n",
       "        vertical-align: middle;\n",
       "    }\n",
       "\n",
       "    .dataframe tbody tr th {\n",
       "        vertical-align: top;\n",
       "    }\n",
       "\n",
       "    .dataframe thead th {\n",
       "        text-align: right;\n",
       "    }\n",
       "</style>\n",
       "<table border=\"1\" class=\"dataframe\">\n",
       "  <thead>\n",
       "    <tr style=\"text-align: right;\">\n",
       "      <th></th>\n",
       "      <th>Field</th>\n",
       "      <th>Type</th>\n",
       "      <th>Null</th>\n",
       "      <th>Key</th>\n",
       "      <th>Default</th>\n",
       "      <th>Extra</th>\n",
       "    </tr>\n",
       "  </thead>\n",
       "  <tbody>\n",
       "    <tr>\n",
       "      <th>0</th>\n",
       "      <td>year</td>\n",
       "      <td>int(10)</td>\n",
       "      <td>NO</td>\n",
       "      <td>PRI</td>\n",
       "      <td>None</td>\n",
       "      <td></td>\n",
       "    </tr>\n",
       "  </tbody>\n",
       "</table>\n",
       "</div>"
      ],
      "text/plain": [
       "  Field     Type Null  Key Default Extra\n",
       "0  year  int(10)   NO  PRI    None      "
      ]
     },
     "execution_count": 7,
     "metadata": {},
     "output_type": "execute_result"
    }
   ],
   "source": [
    "sql = \"DESCRIBE dim_year; \"\n",
    "qry(sql)"
   ]
  },
  {
   "cell_type": "code",
   "execution_count": 8,
   "metadata": {},
   "outputs": [
    {
     "data": {
      "text/html": [
       "<div>\n",
       "<style scoped>\n",
       "    .dataframe tbody tr th:only-of-type {\n",
       "        vertical-align: middle;\n",
       "    }\n",
       "\n",
       "    .dataframe tbody tr th {\n",
       "        vertical-align: top;\n",
       "    }\n",
       "\n",
       "    .dataframe thead th {\n",
       "        text-align: right;\n",
       "    }\n",
       "</style>\n",
       "<table border=\"1\" class=\"dataframe\">\n",
       "  <thead>\n",
       "    <tr style=\"text-align: right;\">\n",
       "      <th></th>\n",
       "      <th>Field</th>\n",
       "      <th>Type</th>\n",
       "      <th>Null</th>\n",
       "      <th>Key</th>\n",
       "      <th>Default</th>\n",
       "      <th>Extra</th>\n",
       "    </tr>\n",
       "  </thead>\n",
       "  <tbody>\n",
       "    <tr>\n",
       "      <th>0</th>\n",
       "      <td>genderid</td>\n",
       "      <td>int(2)</td>\n",
       "      <td>NO</td>\n",
       "      <td>PRI</td>\n",
       "      <td>None</td>\n",
       "      <td></td>\n",
       "    </tr>\n",
       "    <tr>\n",
       "      <th>1</th>\n",
       "      <td>gendername</td>\n",
       "      <td>varchar(10)</td>\n",
       "      <td>NO</td>\n",
       "      <td></td>\n",
       "      <td>None</td>\n",
       "      <td></td>\n",
       "    </tr>\n",
       "    <tr>\n",
       "      <th>2</th>\n",
       "      <td>gender_lifeexp</td>\n",
       "      <td>decimal(5,2)</td>\n",
       "      <td>YES</td>\n",
       "      <td></td>\n",
       "      <td>None</td>\n",
       "      <td></td>\n",
       "    </tr>\n",
       "    <tr>\n",
       "      <th>3</th>\n",
       "      <td>mortality</td>\n",
       "      <td>decimal(5,2)</td>\n",
       "      <td>YES</td>\n",
       "      <td></td>\n",
       "      <td>None</td>\n",
       "      <td></td>\n",
       "    </tr>\n",
       "    <tr>\n",
       "      <th>4</th>\n",
       "      <td>year</td>\n",
       "      <td>int(10)</td>\n",
       "      <td>NO</td>\n",
       "      <td>PRI</td>\n",
       "      <td>None</td>\n",
       "      <td></td>\n",
       "    </tr>\n",
       "    <tr>\n",
       "      <th>5</th>\n",
       "      <td>stateid</td>\n",
       "      <td>int(2)</td>\n",
       "      <td>NO</td>\n",
       "      <td>PRI</td>\n",
       "      <td>None</td>\n",
       "      <td></td>\n",
       "    </tr>\n",
       "  </tbody>\n",
       "</table>\n",
       "</div>"
      ],
      "text/plain": [
       "            Field          Type Null  Key Default Extra\n",
       "0        genderid        int(2)   NO  PRI    None      \n",
       "1      gendername   varchar(10)   NO         None      \n",
       "2  gender_lifeexp  decimal(5,2)  YES         None      \n",
       "3       mortality  decimal(5,2)  YES         None      \n",
       "4            year       int(10)   NO  PRI    None      \n",
       "5         stateid        int(2)   NO  PRI    None      "
      ]
     },
     "execution_count": 8,
     "metadata": {},
     "output_type": "execute_result"
    }
   ],
   "source": [
    "sql = \"DESCRIBE dim_gender; \"\n",
    "qry(sql)"
   ]
  },
  {
   "cell_type": "code",
   "execution_count": 9,
   "metadata": {},
   "outputs": [
    {
     "data": {
      "text/html": [
       "<div>\n",
       "<style scoped>\n",
       "    .dataframe tbody tr th:only-of-type {\n",
       "        vertical-align: middle;\n",
       "    }\n",
       "\n",
       "    .dataframe tbody tr th {\n",
       "        vertical-align: top;\n",
       "    }\n",
       "\n",
       "    .dataframe thead th {\n",
       "        text-align: right;\n",
       "    }\n",
       "</style>\n",
       "<table border=\"1\" class=\"dataframe\">\n",
       "  <thead>\n",
       "    <tr style=\"text-align: right;\">\n",
       "      <th></th>\n",
       "      <th>Field</th>\n",
       "      <th>Type</th>\n",
       "      <th>Null</th>\n",
       "      <th>Key</th>\n",
       "      <th>Default</th>\n",
       "      <th>Extra</th>\n",
       "    </tr>\n",
       "  </thead>\n",
       "  <tbody>\n",
       "    <tr>\n",
       "      <th>0</th>\n",
       "      <td>incomeid</td>\n",
       "      <td>int(2)</td>\n",
       "      <td>NO</td>\n",
       "      <td>PRI</td>\n",
       "      <td>None</td>\n",
       "      <td></td>\n",
       "    </tr>\n",
       "    <tr>\n",
       "      <th>1</th>\n",
       "      <td>incomebracket</td>\n",
       "      <td>varchar(20)</td>\n",
       "      <td>NO</td>\n",
       "      <td></td>\n",
       "      <td>None</td>\n",
       "      <td></td>\n",
       "    </tr>\n",
       "    <tr>\n",
       "      <th>2</th>\n",
       "      <td>income_lifeexp</td>\n",
       "      <td>decimal(5,2)</td>\n",
       "      <td>YES</td>\n",
       "      <td></td>\n",
       "      <td>None</td>\n",
       "      <td></td>\n",
       "    </tr>\n",
       "    <tr>\n",
       "      <th>3</th>\n",
       "      <td>percentagepopulation</td>\n",
       "      <td>decimal(5,2)</td>\n",
       "      <td>YES</td>\n",
       "      <td></td>\n",
       "      <td>None</td>\n",
       "      <td></td>\n",
       "    </tr>\n",
       "    <tr>\n",
       "      <th>4</th>\n",
       "      <td>year</td>\n",
       "      <td>int(10)</td>\n",
       "      <td>NO</td>\n",
       "      <td>PRI</td>\n",
       "      <td>None</td>\n",
       "      <td></td>\n",
       "    </tr>\n",
       "    <tr>\n",
       "      <th>5</th>\n",
       "      <td>stateid</td>\n",
       "      <td>int(2)</td>\n",
       "      <td>NO</td>\n",
       "      <td>PRI</td>\n",
       "      <td>None</td>\n",
       "      <td></td>\n",
       "    </tr>\n",
       "  </tbody>\n",
       "</table>\n",
       "</div>"
      ],
      "text/plain": [
       "                  Field          Type Null  Key Default Extra\n",
       "0              incomeid        int(2)   NO  PRI    None      \n",
       "1         incomebracket   varchar(20)   NO         None      \n",
       "2        income_lifeexp  decimal(5,2)  YES         None      \n",
       "3  percentagepopulation  decimal(5,2)  YES         None      \n",
       "4                  year       int(10)   NO  PRI    None      \n",
       "5               stateid        int(2)   NO  PRI    None      "
      ]
     },
     "execution_count": 9,
     "metadata": {},
     "output_type": "execute_result"
    }
   ],
   "source": [
    "sql = \"DESCRIBE dim_income; \"\n",
    "qry(sql)"
   ]
  },
  {
   "cell_type": "code",
   "execution_count": 10,
   "metadata": {},
   "outputs": [
    {
     "data": {
      "text/html": [
       "<div>\n",
       "<style scoped>\n",
       "    .dataframe tbody tr th:only-of-type {\n",
       "        vertical-align: middle;\n",
       "    }\n",
       "\n",
       "    .dataframe tbody tr th {\n",
       "        vertical-align: top;\n",
       "    }\n",
       "\n",
       "    .dataframe thead th {\n",
       "        text-align: right;\n",
       "    }\n",
       "</style>\n",
       "<table border=\"1\" class=\"dataframe\">\n",
       "  <thead>\n",
       "    <tr style=\"text-align: right;\">\n",
       "      <th></th>\n",
       "      <th>Field</th>\n",
       "      <th>Type</th>\n",
       "      <th>Null</th>\n",
       "      <th>Key</th>\n",
       "      <th>Default</th>\n",
       "      <th>Extra</th>\n",
       "    </tr>\n",
       "  </thead>\n",
       "  <tbody>\n",
       "    <tr>\n",
       "      <th>0</th>\n",
       "      <td>raceid</td>\n",
       "      <td>int(2)</td>\n",
       "      <td>NO</td>\n",
       "      <td>PRI</td>\n",
       "      <td>None</td>\n",
       "      <td></td>\n",
       "    </tr>\n",
       "    <tr>\n",
       "      <th>1</th>\n",
       "      <td>racename</td>\n",
       "      <td>varchar(10)</td>\n",
       "      <td>NO</td>\n",
       "      <td></td>\n",
       "      <td>None</td>\n",
       "      <td></td>\n",
       "    </tr>\n",
       "    <tr>\n",
       "      <th>2</th>\n",
       "      <td>race_lifeexp</td>\n",
       "      <td>decimal(5,2)</td>\n",
       "      <td>YES</td>\n",
       "      <td></td>\n",
       "      <td>None</td>\n",
       "      <td></td>\n",
       "    </tr>\n",
       "    <tr>\n",
       "      <th>3</th>\n",
       "      <td>year</td>\n",
       "      <td>int(10)</td>\n",
       "      <td>NO</td>\n",
       "      <td>PRI</td>\n",
       "      <td>None</td>\n",
       "      <td></td>\n",
       "    </tr>\n",
       "    <tr>\n",
       "      <th>4</th>\n",
       "      <td>genderid</td>\n",
       "      <td>int(2)</td>\n",
       "      <td>NO</td>\n",
       "      <td>PRI</td>\n",
       "      <td>None</td>\n",
       "      <td></td>\n",
       "    </tr>\n",
       "  </tbody>\n",
       "</table>\n",
       "</div>"
      ],
      "text/plain": [
       "          Field          Type Null  Key Default Extra\n",
       "0        raceid        int(2)   NO  PRI    None      \n",
       "1      racename   varchar(10)   NO         None      \n",
       "2  race_lifeexp  decimal(5,2)  YES         None      \n",
       "3          year       int(10)   NO  PRI    None      \n",
       "4      genderid        int(2)   NO  PRI    None      "
      ]
     },
     "execution_count": 10,
     "metadata": {},
     "output_type": "execute_result"
    }
   ],
   "source": [
    "sql = \"DESCRIBE dim_race; \"\n",
    "qry(sql)"
   ]
  },
  {
   "cell_type": "code",
   "execution_count": 11,
   "metadata": {},
   "outputs": [
    {
     "data": {
      "text/html": [
       "<div>\n",
       "<style scoped>\n",
       "    .dataframe tbody tr th:only-of-type {\n",
       "        vertical-align: middle;\n",
       "    }\n",
       "\n",
       "    .dataframe tbody tr th {\n",
       "        vertical-align: top;\n",
       "    }\n",
       "\n",
       "    .dataframe thead th {\n",
       "        text-align: right;\n",
       "    }\n",
       "</style>\n",
       "<table border=\"1\" class=\"dataframe\">\n",
       "  <thead>\n",
       "    <tr style=\"text-align: right;\">\n",
       "      <th></th>\n",
       "      <th>Field</th>\n",
       "      <th>Type</th>\n",
       "      <th>Null</th>\n",
       "      <th>Key</th>\n",
       "      <th>Default</th>\n",
       "      <th>Extra</th>\n",
       "    </tr>\n",
       "  </thead>\n",
       "  <tbody>\n",
       "    <tr>\n",
       "      <th>0</th>\n",
       "      <td>stateid</td>\n",
       "      <td>int(2)</td>\n",
       "      <td>NO</td>\n",
       "      <td>PRI</td>\n",
       "      <td>None</td>\n",
       "      <td></td>\n",
       "    </tr>\n",
       "    <tr>\n",
       "      <th>1</th>\n",
       "      <td>state_abbrv</td>\n",
       "      <td>varchar(2)</td>\n",
       "      <td>NO</td>\n",
       "      <td></td>\n",
       "      <td>None</td>\n",
       "      <td></td>\n",
       "    </tr>\n",
       "    <tr>\n",
       "      <th>2</th>\n",
       "      <td>statename</td>\n",
       "      <td>varchar(20)</td>\n",
       "      <td>NO</td>\n",
       "      <td></td>\n",
       "      <td>None</td>\n",
       "      <td></td>\n",
       "    </tr>\n",
       "    <tr>\n",
       "      <th>3</th>\n",
       "      <td>population</td>\n",
       "      <td>int(9)</td>\n",
       "      <td>YES</td>\n",
       "      <td></td>\n",
       "      <td>None</td>\n",
       "      <td></td>\n",
       "    </tr>\n",
       "    <tr>\n",
       "      <th>4</th>\n",
       "      <td>hospitals</td>\n",
       "      <td>int(4)</td>\n",
       "      <td>YES</td>\n",
       "      <td></td>\n",
       "      <td>None</td>\n",
       "      <td></td>\n",
       "    </tr>\n",
       "    <tr>\n",
       "      <th>5</th>\n",
       "      <td>expenditure</td>\n",
       "      <td>bigint(30)</td>\n",
       "      <td>YES</td>\n",
       "      <td></td>\n",
       "      <td>None</td>\n",
       "      <td></td>\n",
       "    </tr>\n",
       "    <tr>\n",
       "      <th>6</th>\n",
       "      <td>state_lifeexp</td>\n",
       "      <td>decimal(5,2)</td>\n",
       "      <td>YES</td>\n",
       "      <td></td>\n",
       "      <td>None</td>\n",
       "      <td></td>\n",
       "    </tr>\n",
       "    <tr>\n",
       "      <th>7</th>\n",
       "      <td>uninsuredrate</td>\n",
       "      <td>decimal(5,2)</td>\n",
       "      <td>YES</td>\n",
       "      <td></td>\n",
       "      <td>None</td>\n",
       "      <td></td>\n",
       "    </tr>\n",
       "    <tr>\n",
       "      <th>8</th>\n",
       "      <td>year</td>\n",
       "      <td>int(10)</td>\n",
       "      <td>NO</td>\n",
       "      <td>PRI</td>\n",
       "      <td>None</td>\n",
       "      <td></td>\n",
       "    </tr>\n",
       "    <tr>\n",
       "      <th>9</th>\n",
       "      <td>expend_per_cap</td>\n",
       "      <td>bigint(30)</td>\n",
       "      <td>YES</td>\n",
       "      <td></td>\n",
       "      <td>None</td>\n",
       "      <td></td>\n",
       "    </tr>\n",
       "    <tr>\n",
       "      <th>10</th>\n",
       "      <td>hospitals_per_100K</td>\n",
       "      <td>decimal(5,2)</td>\n",
       "      <td>YES</td>\n",
       "      <td></td>\n",
       "      <td>None</td>\n",
       "      <td></td>\n",
       "    </tr>\n",
       "  </tbody>\n",
       "</table>\n",
       "</div>"
      ],
      "text/plain": [
       "                 Field          Type Null  Key Default Extra\n",
       "0              stateid        int(2)   NO  PRI    None      \n",
       "1          state_abbrv    varchar(2)   NO         None      \n",
       "2            statename   varchar(20)   NO         None      \n",
       "3           population        int(9)  YES         None      \n",
       "4            hospitals        int(4)  YES         None      \n",
       "5          expenditure    bigint(30)  YES         None      \n",
       "6        state_lifeexp  decimal(5,2)  YES         None      \n",
       "7        uninsuredrate  decimal(5,2)  YES         None      \n",
       "8                 year       int(10)   NO  PRI    None      \n",
       "9       expend_per_cap    bigint(30)  YES         None      \n",
       "10  hospitals_per_100K  decimal(5,2)  YES         None      "
      ]
     },
     "execution_count": 11,
     "metadata": {},
     "output_type": "execute_result"
    }
   ],
   "source": [
    "sql = \"DESCRIBE dim_state; \"\n",
    "qry(sql)"
   ]
  },
  {
   "cell_type": "code",
   "execution_count": 12,
   "metadata": {},
   "outputs": [
    {
     "data": {
      "text/html": [
       "<div>\n",
       "<style scoped>\n",
       "    .dataframe tbody tr th:only-of-type {\n",
       "        vertical-align: middle;\n",
       "    }\n",
       "\n",
       "    .dataframe tbody tr th {\n",
       "        vertical-align: top;\n",
       "    }\n",
       "\n",
       "    .dataframe thead th {\n",
       "        text-align: right;\n",
       "    }\n",
       "</style>\n",
       "<table border=\"1\" class=\"dataframe\">\n",
       "  <thead>\n",
       "    <tr style=\"text-align: right;\">\n",
       "      <th></th>\n",
       "      <th>Field</th>\n",
       "      <th>Type</th>\n",
       "      <th>Null</th>\n",
       "      <th>Key</th>\n",
       "      <th>Default</th>\n",
       "      <th>Extra</th>\n",
       "    </tr>\n",
       "  </thead>\n",
       "  <tbody>\n",
       "    <tr>\n",
       "      <th>0</th>\n",
       "      <td>personid</td>\n",
       "      <td>int(10)</td>\n",
       "      <td>NO</td>\n",
       "      <td>PRI</td>\n",
       "      <td>None</td>\n",
       "      <td>auto_increment</td>\n",
       "    </tr>\n",
       "    <tr>\n",
       "      <th>1</th>\n",
       "      <td>genderid</td>\n",
       "      <td>int(2)</td>\n",
       "      <td>NO</td>\n",
       "      <td>MUL</td>\n",
       "      <td>None</td>\n",
       "      <td></td>\n",
       "    </tr>\n",
       "    <tr>\n",
       "      <th>2</th>\n",
       "      <td>raceid</td>\n",
       "      <td>int(2)</td>\n",
       "      <td>NO</td>\n",
       "      <td>MUL</td>\n",
       "      <td>None</td>\n",
       "      <td></td>\n",
       "    </tr>\n",
       "    <tr>\n",
       "      <th>3</th>\n",
       "      <td>stateid</td>\n",
       "      <td>int(2)</td>\n",
       "      <td>NO</td>\n",
       "      <td>MUL</td>\n",
       "      <td>None</td>\n",
       "      <td></td>\n",
       "    </tr>\n",
       "    <tr>\n",
       "      <th>4</th>\n",
       "      <td>incomeid</td>\n",
       "      <td>int(2)</td>\n",
       "      <td>NO</td>\n",
       "      <td>MUL</td>\n",
       "      <td>None</td>\n",
       "      <td></td>\n",
       "    </tr>\n",
       "    <tr>\n",
       "      <th>5</th>\n",
       "      <td>person_lifeexp</td>\n",
       "      <td>float</td>\n",
       "      <td>YES</td>\n",
       "      <td></td>\n",
       "      <td>None</td>\n",
       "      <td></td>\n",
       "    </tr>\n",
       "    <tr>\n",
       "      <th>6</th>\n",
       "      <td>year</td>\n",
       "      <td>int(10)</td>\n",
       "      <td>NO</td>\n",
       "      <td>MUL</td>\n",
       "      <td>None</td>\n",
       "      <td></td>\n",
       "    </tr>\n",
       "  </tbody>\n",
       "</table>\n",
       "</div>"
      ],
      "text/plain": [
       "            Field     Type Null  Key Default           Extra\n",
       "0        personid  int(10)   NO  PRI    None  auto_increment\n",
       "1        genderid   int(2)   NO  MUL    None                \n",
       "2          raceid   int(2)   NO  MUL    None                \n",
       "3         stateid   int(2)   NO  MUL    None                \n",
       "4        incomeid   int(2)   NO  MUL    None                \n",
       "5  person_lifeexp    float  YES         None                \n",
       "6            year  int(10)   NO  MUL    None                "
      ]
     },
     "execution_count": 12,
     "metadata": {},
     "output_type": "execute_result"
    }
   ],
   "source": [
    "sql = \"DESCRIBE fact_personlifeexp; \"\n",
    "qry(sql)\n",
    "# we will be finding the best estimate for person_lifeexp"
   ]
  },
  {
   "cell_type": "markdown",
   "metadata": {},
   "source": [
    "# Query data for predicting life expectancy analysis"
   ]
  },
  {
   "cell_type": "markdown",
   "metadata": {},
   "source": [
    "1. We started with doing a simple average of life expentacy figures from dim_state, dim_income and dim_gender to estimate person's overall life expectancy estimates\n",
    "2. Goal is better predict's person's life expectancy through regression analysis on the key predictors"
   ]
  },
  {
   "cell_type": "markdown",
   "metadata": {},
   "source": [
    "List of variables to be analyzed: \n",
    "1. Income bracket\n",
    "2. Race\n",
    "3. State\n",
    "4. Gender\n",
    "5. Percentage of population in a income bracket\n",
    "6. Expenditure per capital income\n",
    "7. Number of hospitals per 100k population\n",
    "8. Uninsured rate by state"
   ]
  },
  {
   "cell_type": "code",
   "execution_count": 13,
   "metadata": {
    "scrolled": true
   },
   "outputs": [
    {
     "data": {
      "text/html": [
       "<div>\n",
       "<style scoped>\n",
       "    .dataframe tbody tr th:only-of-type {\n",
       "        vertical-align: middle;\n",
       "    }\n",
       "\n",
       "    .dataframe tbody tr th {\n",
       "        vertical-align: top;\n",
       "    }\n",
       "\n",
       "    .dataframe thead th {\n",
       "        text-align: right;\n",
       "    }\n",
       "</style>\n",
       "<table border=\"1\" class=\"dataframe\">\n",
       "  <thead>\n",
       "    <tr style=\"text-align: right;\">\n",
       "      <th></th>\n",
       "      <th>genderid</th>\n",
       "      <th>raceid</th>\n",
       "      <th>stateid</th>\n",
       "      <th>incomeid</th>\n",
       "      <th>uninsuredrate</th>\n",
       "      <th>mortality</th>\n",
       "      <th>year</th>\n",
       "      <th>avg_lifeexp</th>\n",
       "      <th>percentpopincome</th>\n",
       "      <th>expend_per_cap</th>\n",
       "      <th>hospitals_per_100k</th>\n",
       "    </tr>\n",
       "  </thead>\n",
       "  <tbody>\n",
       "    <tr>\n",
       "      <th>0</th>\n",
       "      <td>1</td>\n",
       "      <td>1</td>\n",
       "      <td>1</td>\n",
       "      <td>1</td>\n",
       "      <td>12.91</td>\n",
       "      <td>14.86</td>\n",
       "      <td>2008</td>\n",
       "      <td>78.0075</td>\n",
       "      <td>0.0</td>\n",
       "      <td>6325.0</td>\n",
       "      <td>2.31</td>\n",
       "    </tr>\n",
       "    <tr>\n",
       "      <th>1</th>\n",
       "      <td>1</td>\n",
       "      <td>1</td>\n",
       "      <td>1</td>\n",
       "      <td>1</td>\n",
       "      <td>13.39</td>\n",
       "      <td>14.86</td>\n",
       "      <td>2009</td>\n",
       "      <td>78.0450</td>\n",
       "      <td>0.0</td>\n",
       "      <td>6325.0</td>\n",
       "      <td>2.27</td>\n",
       "    </tr>\n",
       "    <tr>\n",
       "      <th>2</th>\n",
       "      <td>1</td>\n",
       "      <td>1</td>\n",
       "      <td>1</td>\n",
       "      <td>1</td>\n",
       "      <td>14.15</td>\n",
       "      <td>14.86</td>\n",
       "      <td>2010</td>\n",
       "      <td>78.1075</td>\n",
       "      <td>0.0</td>\n",
       "      <td>6421.0</td>\n",
       "      <td>2.16</td>\n",
       "    </tr>\n",
       "    <tr>\n",
       "      <th>3</th>\n",
       "      <td>1</td>\n",
       "      <td>1</td>\n",
       "      <td>1</td>\n",
       "      <td>1</td>\n",
       "      <td>13.84</td>\n",
       "      <td>14.86</td>\n",
       "      <td>2011</td>\n",
       "      <td>78.1075</td>\n",
       "      <td>0.0</td>\n",
       "      <td>6541.0</td>\n",
       "      <td>2.09</td>\n",
       "    </tr>\n",
       "    <tr>\n",
       "      <th>4</th>\n",
       "      <td>1</td>\n",
       "      <td>1</td>\n",
       "      <td>1</td>\n",
       "      <td>1</td>\n",
       "      <td>12.93</td>\n",
       "      <td>14.86</td>\n",
       "      <td>2012</td>\n",
       "      <td>78.1250</td>\n",
       "      <td>0.0</td>\n",
       "      <td>6821.0</td>\n",
       "      <td>1.98</td>\n",
       "    </tr>\n",
       "  </tbody>\n",
       "</table>\n",
       "</div>"
      ],
      "text/plain": [
       "   genderid  raceid  stateid  incomeid  uninsuredrate  mortality  year  \\\n",
       "0         1       1        1         1          12.91      14.86  2008   \n",
       "1         1       1        1         1          13.39      14.86  2009   \n",
       "2         1       1        1         1          14.15      14.86  2010   \n",
       "3         1       1        1         1          13.84      14.86  2011   \n",
       "4         1       1        1         1          12.93      14.86  2012   \n",
       "\n",
       "   avg_lifeexp  percentpopincome  expend_per_cap  hospitals_per_100k  \n",
       "0      78.0075               0.0          6325.0                2.31  \n",
       "1      78.0450               0.0          6325.0                2.27  \n",
       "2      78.1075               0.0          6421.0                2.16  \n",
       "3      78.1075               0.0          6541.0                2.09  \n",
       "4      78.1250               0.0          6821.0                1.98  "
      ]
     },
     "execution_count": 13,
     "metadata": {},
     "output_type": "execute_result"
    }
   ],
   "source": [
    "sql = \"SELECT g.genderid, r.raceid, s.stateid,   \\\n",
    "        i.incomeid, s.uninsuredrate, g.mortality, y.year,  \\\n",
    "        (g.gender_lifeexp+i.income_lifeexp+r.race_lifeexp+s.state_lifeexp)/4 as avg_lifeexp, \\\n",
    "        i.percentagepopulation as percentpopincome, s.expend_per_cap as expend_per_cap,\\\n",
    "        s.hospitals_per_100k    \\\n",
    "    FROM dim_year y       \\\n",
    "        INNER JOIN dim_state s ON s.year = y.year           \\\n",
    "        INNER JOIN dim_income i ON i.stateid = s.stateid    \\\n",
    "        INNER JOIN dim_gender g ON g.stateid = i.stateid    \\\n",
    "        INNER JOIN dim_race r ON g.genderid = r.genderid    \\\n",
    "        WHERE y.year >= '2008'                  \\\n",
    "    GROUP BY g.genderid, r.raceid, s.stateid, i.incomeid, s.uninsuredrate, y.year;\"\n",
    "\n",
    "lifeexpfact = qry(sql)\n",
    "lifeexpfact.head()"
   ]
  },
  {
   "cell_type": "code",
   "execution_count": 63,
   "metadata": {},
   "outputs": [],
   "source": [
    "#save the file at local for ease of reading data for analysis\n",
    "lifeexpfact.to_csv(\"lifeexpfact_mortality.csv\")"
   ]
  },
  {
   "cell_type": "code",
   "execution_count": 15,
   "metadata": {},
   "outputs": [
    {
     "data": {
      "text/plain": [
       "(16320, 11)"
      ]
     },
     "execution_count": 15,
     "metadata": {},
     "output_type": "execute_result"
    }
   ],
   "source": [
    "lifeexpfact.shape"
   ]
  },
  {
   "cell_type": "markdown",
   "metadata": {},
   "source": [
    "#### Confirming missing values to spilt data into train and test"
   ]
  },
  {
   "cell_type": "code",
   "execution_count": 16,
   "metadata": {
    "scrolled": true
   },
   "outputs": [
    {
     "data": {
      "text/plain": [
       "genderid                 0\n",
       "raceid                   0\n",
       "stateid                  0\n",
       "incomeid                 0\n",
       "uninsuredrate           64\n",
       "mortality              320\n",
       "year                     0\n",
       "avg_lifeexp           4320\n",
       "percentpopincome         0\n",
       "expend_per_cap           0\n",
       "hospitals_per_100k       0\n",
       "dtype: int64"
      ]
     },
     "execution_count": 16,
     "metadata": {},
     "output_type": "execute_result"
    }
   ],
   "source": [
    "lifeexpfact.isnull().sum()"
   ]
  },
  {
   "cell_type": "code",
   "execution_count": 17,
   "metadata": {},
   "outputs": [
    {
     "data": {
      "text/html": [
       "<div>\n",
       "<style scoped>\n",
       "    .dataframe tbody tr th:only-of-type {\n",
       "        vertical-align: middle;\n",
       "    }\n",
       "\n",
       "    .dataframe tbody tr th {\n",
       "        vertical-align: top;\n",
       "    }\n",
       "\n",
       "    .dataframe thead th {\n",
       "        text-align: right;\n",
       "    }\n",
       "</style>\n",
       "<table border=\"1\" class=\"dataframe\">\n",
       "  <thead>\n",
       "    <tr style=\"text-align: right;\">\n",
       "      <th></th>\n",
       "      <th>genderid</th>\n",
       "      <th>raceid</th>\n",
       "      <th>stateid</th>\n",
       "      <th>incomeid</th>\n",
       "      <th>uninsuredrate</th>\n",
       "      <th>mortality</th>\n",
       "      <th>year</th>\n",
       "      <th>avg_lifeexp</th>\n",
       "      <th>percentpopincome</th>\n",
       "      <th>expend_per_cap</th>\n",
       "      <th>hospitals_per_100k</th>\n",
       "    </tr>\n",
       "  </thead>\n",
       "  <tbody>\n",
       "    <tr>\n",
       "      <th>13275</th>\n",
       "      <td>2</td>\n",
       "      <td>4</td>\n",
       "      <td>11</td>\n",
       "      <td>4</td>\n",
       "      <td>6.27</td>\n",
       "      <td>NaN</td>\n",
       "      <td>2013</td>\n",
       "      <td>NaN</td>\n",
       "      <td>0.25</td>\n",
       "      <td>11466.00</td>\n",
       "      <td>1.64</td>\n",
       "    </tr>\n",
       "    <tr>\n",
       "      <th>13276</th>\n",
       "      <td>2</td>\n",
       "      <td>4</td>\n",
       "      <td>11</td>\n",
       "      <td>4</td>\n",
       "      <td>4.99</td>\n",
       "      <td>NaN</td>\n",
       "      <td>2014</td>\n",
       "      <td>NaN</td>\n",
       "      <td>0.25</td>\n",
       "      <td>11944.00</td>\n",
       "      <td>1.62</td>\n",
       "    </tr>\n",
       "    <tr>\n",
       "      <th>13277</th>\n",
       "      <td>2</td>\n",
       "      <td>4</td>\n",
       "      <td>11</td>\n",
       "      <td>4</td>\n",
       "      <td>3.61</td>\n",
       "      <td>NaN</td>\n",
       "      <td>2015</td>\n",
       "      <td>NaN</td>\n",
       "      <td>0.25</td>\n",
       "      <td>12311.34</td>\n",
       "      <td>1.59</td>\n",
       "    </tr>\n",
       "    <tr>\n",
       "      <th>13278</th>\n",
       "      <td>2</td>\n",
       "      <td>4</td>\n",
       "      <td>11</td>\n",
       "      <td>4</td>\n",
       "      <td>3.68</td>\n",
       "      <td>NaN</td>\n",
       "      <td>2016</td>\n",
       "      <td>NaN</td>\n",
       "      <td>0.25</td>\n",
       "      <td>12689.99</td>\n",
       "      <td>1.56</td>\n",
       "    </tr>\n",
       "    <tr>\n",
       "      <th>13279</th>\n",
       "      <td>2</td>\n",
       "      <td>4</td>\n",
       "      <td>11</td>\n",
       "      <td>4</td>\n",
       "      <td>3.63</td>\n",
       "      <td>NaN</td>\n",
       "      <td>2017</td>\n",
       "      <td>NaN</td>\n",
       "      <td>0.25</td>\n",
       "      <td>13080.27</td>\n",
       "      <td>1.54</td>\n",
       "    </tr>\n",
       "  </tbody>\n",
       "</table>\n",
       "</div>"
      ],
      "text/plain": [
       "       genderid  raceid  stateid  incomeid  uninsuredrate  mortality  year  \\\n",
       "13275         2       4       11         4           6.27        NaN  2013   \n",
       "13276         2       4       11         4           4.99        NaN  2014   \n",
       "13277         2       4       11         4           3.61        NaN  2015   \n",
       "13278         2       4       11         4           3.68        NaN  2016   \n",
       "13279         2       4       11         4           3.63        NaN  2017   \n",
       "\n",
       "       avg_lifeexp  percentpopincome  expend_per_cap  hospitals_per_100k  \n",
       "13275          NaN              0.25        11466.00                1.64  \n",
       "13276          NaN              0.25        11944.00                1.62  \n",
       "13277          NaN              0.25        12311.34                1.59  \n",
       "13278          NaN              0.25        12689.99                1.56  \n",
       "13279          NaN              0.25        13080.27                1.54  "
      ]
     },
     "execution_count": 17,
     "metadata": {},
     "output_type": "execute_result"
    }
   ],
   "source": [
    "#there are two states (state id : 10, 56) with NULL values for uninsured rate year 2014 and 2017 \n",
    "# due to data availability\n",
    "# impute NULL uninsuredrate with projection using dim_state data\n",
    "lifeexpfact[lifeexpfact.iloc[:,5].isnull()==True].tail()"
   ]
  },
  {
   "cell_type": "markdown",
   "metadata": {},
   "source": [
    "#### Imputing null values in column uninsured rate with values -999"
   ]
  },
  {
   "cell_type": "code",
   "execution_count": 18,
   "metadata": {},
   "outputs": [
    {
     "data": {
      "text/plain": [
       "genderid                 0\n",
       "raceid                   0\n",
       "stateid                  0\n",
       "incomeid                 0\n",
       "uninsuredrate            0\n",
       "mortality              320\n",
       "year                     0\n",
       "avg_lifeexp           4320\n",
       "percentpopincome         0\n",
       "expend_per_cap           0\n",
       "hospitals_per_100k       0\n",
       "dtype: int64"
      ]
     },
     "execution_count": 18,
     "metadata": {},
     "output_type": "execute_result"
    }
   ],
   "source": [
    "# since there is only 64 missing and only from 2 states and 2years, we fill NA with -999 for analysis\n",
    "lifeexpfact[['uninsuredrate']] = lifeexpfact[['uninsuredrate']].fillna(value=-999)\n",
    "lifeexpfact.isnull().sum()"
   ]
  },
  {
   "cell_type": "markdown",
   "metadata": {},
   "source": [
    "# Split train and test datasets for lifeexpfact\n",
    "by splitting null person_lifeexp with non-nulls"
   ]
  },
  {
   "cell_type": "code",
   "execution_count": 19,
   "metadata": {},
   "outputs": [],
   "source": [
    "train_lifeexpfact = lifeexpfact.dropna()\n",
    "test_lifeexpfact = lifeexpfact[pd.isnull(lifeexpfact).any(axis=1)]"
   ]
  },
  {
   "cell_type": "code",
   "execution_count": 20,
   "metadata": {},
   "outputs": [
    {
     "name": "stdout",
     "output_type": "stream",
     "text": [
      "(12000, 11) (4320, 11)\n"
     ]
    }
   ],
   "source": [
    "print(train_lifeexpfact.shape, test_lifeexpfact.shape)"
   ]
  },
  {
   "cell_type": "markdown",
   "metadata": {},
   "source": [
    "# Summary statistics on train data"
   ]
  },
  {
   "cell_type": "markdown",
   "metadata": {},
   "source": [
    "1. Female has higher life expectancy and male in the US"
   ]
  },
  {
   "cell_type": "code",
   "execution_count": 21,
   "metadata": {
    "scrolled": false
   },
   "outputs": [
    {
     "data": {
      "text/html": [
       "<div>\n",
       "<style scoped>\n",
       "    .dataframe tbody tr th:only-of-type {\n",
       "        vertical-align: middle;\n",
       "    }\n",
       "\n",
       "    .dataframe tbody tr th {\n",
       "        vertical-align: top;\n",
       "    }\n",
       "\n",
       "    .dataframe thead th {\n",
       "        text-align: right;\n",
       "    }\n",
       "</style>\n",
       "<table border=\"1\" class=\"dataframe\">\n",
       "  <thead>\n",
       "    <tr style=\"text-align: right;\">\n",
       "      <th></th>\n",
       "      <th>avg_lifeexp</th>\n",
       "    </tr>\n",
       "    <tr>\n",
       "      <th>genderid</th>\n",
       "      <th></th>\n",
       "    </tr>\n",
       "  </thead>\n",
       "  <tbody>\n",
       "    <tr>\n",
       "      <th>1</th>\n",
       "      <td>80.104537</td>\n",
       "    </tr>\n",
       "    <tr>\n",
       "      <th>2</th>\n",
       "      <td>76.810203</td>\n",
       "    </tr>\n",
       "  </tbody>\n",
       "</table>\n",
       "</div>"
      ],
      "text/plain": [
       "          avg_lifeexp\n",
       "genderid             \n",
       "1           80.104537\n",
       "2           76.810203"
      ]
     },
     "execution_count": 21,
     "metadata": {},
     "output_type": "execute_result"
    }
   ],
   "source": [
    "by_gender = train_lifeexpfact[['genderid','avg_lifeexp']].groupby('genderid').mean()\n",
    "by_gender.sort_values(by=['avg_lifeexp'], ascending=False)\n",
    "#gender 1 is female and gender 2 is male\n"
   ]
  },
  {
   "cell_type": "code",
   "execution_count": 22,
   "metadata": {},
   "outputs": [
    {
     "data": {
      "image/png": "[encoded data removed]",
      "text/plain": [
       "<Figure size 576x288 with 1 Axes>"
      ]
     },
     "metadata": {
      "needs_background": "light"
     },
     "output_type": "display_data"
    }
   ],
   "source": [
    "rcParams['figure.figsize'] = 8, 4\n",
    "by_gender.plot(kind='barh',figsize= (8,4),rot=0)\n",
    "plt.xlabel(\"Life_exp\", labelpad=12)\n",
    "plt.xlim(71,81)\n",
    "plt.ylabel(\"Gender\", labelpad=12)\n",
    "plt.title(\"Life expectancy by gender in the US\", y=1.02)\n",
    "plt.show()"
   ]
  },
  {
   "cell_type": "markdown",
   "metadata": {},
   "source": [
    "2. Hispanics and white have higher life expectancy in the US"
   ]
  },
  {
   "cell_type": "code",
   "execution_count": 23,
   "metadata": {},
   "outputs": [
    {
     "data": {
      "text/html": [
       "<div>\n",
       "<style scoped>\n",
       "    .dataframe tbody tr th:only-of-type {\n",
       "        vertical-align: middle;\n",
       "    }\n",
       "\n",
       "    .dataframe tbody tr th {\n",
       "        vertical-align: top;\n",
       "    }\n",
       "\n",
       "    .dataframe thead th {\n",
       "        text-align: right;\n",
       "    }\n",
       "</style>\n",
       "<table border=\"1\" class=\"dataframe\">\n",
       "  <thead>\n",
       "    <tr style=\"text-align: right;\">\n",
       "      <th></th>\n",
       "      <th>avg_lifeexp</th>\n",
       "    </tr>\n",
       "    <tr>\n",
       "      <th>raceid</th>\n",
       "      <th></th>\n",
       "    </tr>\n",
       "  </thead>\n",
       "  <tbody>\n",
       "    <tr>\n",
       "      <th>3</th>\n",
       "      <td>79.23237</td>\n",
       "    </tr>\n",
       "    <tr>\n",
       "      <th>1</th>\n",
       "      <td>78.71987</td>\n",
       "    </tr>\n",
       "    <tr>\n",
       "      <th>2</th>\n",
       "      <td>77.41987</td>\n",
       "    </tr>\n",
       "  </tbody>\n",
       "</table>\n",
       "</div>"
      ],
      "text/plain": [
       "        avg_lifeexp\n",
       "raceid             \n",
       "3          79.23237\n",
       "1          78.71987\n",
       "2          77.41987"
      ]
     },
     "execution_count": 23,
     "metadata": {},
     "output_type": "execute_result"
    }
   ],
   "source": [
    "by_race = train_lifeexpfact[['raceid','avg_lifeexp']].groupby('raceid').mean()\n",
    "by_race.sort_values(by=['avg_lifeexp'], ascending=False)\n",
    "#raceid 1 = white, raceid 2 = black, raceid 3 = hispanics, raceid 4 = asian\n",
    "# asian has no data heredue to null values"
   ]
  },
  {
   "cell_type": "code",
   "execution_count": 24,
   "metadata": {},
   "outputs": [
    {
     "data": {
      "image/png": "[encoded data removed]",
      "text/plain": [
       "<Figure size 576x288 with 1 Axes>"
      ]
     },
     "metadata": {
      "needs_background": "light"
     },
     "output_type": "display_data"
    }
   ],
   "source": [
    "rcParams['figure.figsize'] = 8, 4\n",
    "by_race.plot(kind='barh',figsize= (8,4),rot=0, color ='tab:green')\n",
    "plt.xlabel(\"Life_exp\", labelpad=12)\n",
    "plt.xlim(71,81)\n",
    "plt.ylabel(\"Race\", labelpad=12)\n",
    "plt.title(\"Life expectancy by race in the US\", y=1.02)\n",
    "plt.show()"
   ]
  },
  {
   "cell_type": "markdown",
   "metadata": {},
   "source": [
    "3. Americans who earned from than $75k a year have higher life expentancy"
   ]
  },
  {
   "cell_type": "code",
   "execution_count": 25,
   "metadata": {},
   "outputs": [
    {
     "data": {
      "text/html": [
       "<div>\n",
       "<style scoped>\n",
       "    .dataframe tbody tr th:only-of-type {\n",
       "        vertical-align: middle;\n",
       "    }\n",
       "\n",
       "    .dataframe tbody tr th {\n",
       "        vertical-align: top;\n",
       "    }\n",
       "\n",
       "    .dataframe thead th {\n",
       "        text-align: right;\n",
       "    }\n",
       "</style>\n",
       "<table border=\"1\" class=\"dataframe\">\n",
       "  <thead>\n",
       "    <tr style=\"text-align: right;\">\n",
       "      <th></th>\n",
       "      <th>avg_lifeexp</th>\n",
       "    </tr>\n",
       "    <tr>\n",
       "      <th>incomeid</th>\n",
       "      <th></th>\n",
       "    </tr>\n",
       "  </thead>\n",
       "  <tbody>\n",
       "    <tr>\n",
       "      <th>4</th>\n",
       "      <td>79.30017</td>\n",
       "    </tr>\n",
       "    <tr>\n",
       "      <th>3</th>\n",
       "      <td>78.81037</td>\n",
       "    </tr>\n",
       "    <tr>\n",
       "      <th>2</th>\n",
       "      <td>78.31347</td>\n",
       "    </tr>\n",
       "    <tr>\n",
       "      <th>1</th>\n",
       "      <td>77.40547</td>\n",
       "    </tr>\n",
       "  </tbody>\n",
       "</table>\n",
       "</div>"
      ],
      "text/plain": [
       "          avg_lifeexp\n",
       "incomeid             \n",
       "4            79.30017\n",
       "3            78.81037\n",
       "2            78.31347\n",
       "1            77.40547"
      ]
     },
     "execution_count": 25,
     "metadata": {},
     "output_type": "execute_result"
    }
   ],
   "source": [
    "by_income = train_lifeexpfact[['incomeid','avg_lifeexp']].groupby('incomeid').mean()\n",
    "by_income.sort_values(by=['avg_lifeexp'], ascending=False)\n",
    "# 1 refers to annual income =< $25,000, 2 = $25,001-%50,000, 3= $50,001 to $75,000, 4= $75,001 and above"
   ]
  },
  {
   "cell_type": "code",
   "execution_count": 26,
   "metadata": {},
   "outputs": [
    {
     "data": {
      "image/png": "[encoded data removed]",
      "text/plain": [
       "<Figure size 576x288 with 1 Axes>"
      ]
     },
     "metadata": {
      "needs_background": "light"
     },
     "output_type": "display_data"
    }
   ],
   "source": [
    "rcParams['figure.figsize'] = 8, 4\n",
    "by_income.plot(kind='barh',figsize= (8,4),rot=0, color ='teal')\n",
    "plt.xlabel(\"Life_exp\", labelpad=12)\n",
    "plt.xlim(71,82)\n",
    "plt.ylabel(\"Incomebracket\", labelpad=12)\n",
    "plt.title(\"Life expectancy by income bracket in the US\", y=1.02)\n",
    "plt.show()\n",
    "# 1 refers to annual income =< $25,000, 2 = $25,001-%50,000, 3= $50,001 to $75,000, 4= $75,001 and above"
   ]
  },
  {
   "cell_type": "markdown",
   "metadata": {},
   "source": [
    "4. Minessota, Utah and Vermont have the highest life expectancy compared to other states in the US."
   ]
  },
  {
   "cell_type": "code",
   "execution_count": 27,
   "metadata": {},
   "outputs": [
    {
     "data": {
      "text/html": [
       "<div>\n",
       "<style scoped>\n",
       "    .dataframe tbody tr th:only-of-type {\n",
       "        vertical-align: middle;\n",
       "    }\n",
       "\n",
       "    .dataframe tbody tr th {\n",
       "        vertical-align: top;\n",
       "    }\n",
       "\n",
       "    .dataframe thead th {\n",
       "        text-align: right;\n",
       "    }\n",
       "</style>\n",
       "<table border=\"1\" class=\"dataframe\">\n",
       "  <thead>\n",
       "    <tr style=\"text-align: right;\">\n",
       "      <th></th>\n",
       "      <th>avg_lifeexp</th>\n",
       "    </tr>\n",
       "    <tr>\n",
       "      <th>stateid</th>\n",
       "      <th></th>\n",
       "    </tr>\n",
       "  </thead>\n",
       "  <tbody>\n",
       "    <tr>\n",
       "      <th>27</th>\n",
       "      <td>79.655500</td>\n",
       "    </tr>\n",
       "    <tr>\n",
       "      <th>49</th>\n",
       "      <td>79.597375</td>\n",
       "    </tr>\n",
       "    <tr>\n",
       "      <th>50</th>\n",
       "      <td>79.453250</td>\n",
       "    </tr>\n",
       "    <tr>\n",
       "      <th>15</th>\n",
       "      <td>79.416125</td>\n",
       "    </tr>\n",
       "    <tr>\n",
       "      <th>8</th>\n",
       "      <td>79.411250</td>\n",
       "    </tr>\n",
       "  </tbody>\n",
       "</table>\n",
       "</div>"
      ],
      "text/plain": [
       "         avg_lifeexp\n",
       "stateid             \n",
       "27         79.655500\n",
       "49         79.597375\n",
       "50         79.453250\n",
       "15         79.416125\n",
       "8          79.411250"
      ]
     },
     "execution_count": 27,
     "metadata": {},
     "output_type": "execute_result"
    }
   ],
   "source": [
    "by_state = train_lifeexpfact[['stateid','avg_lifeexp']].groupby('stateid').mean()\n",
    "by_state1 = by_state.sort_values(by=['avg_lifeexp'], ascending=False).head()\n",
    "by_state1"
   ]
  },
  {
   "cell_type": "code",
   "execution_count": 28,
   "metadata": {},
   "outputs": [
    {
     "data": {
      "image/png": "[encoded data removed]",
      "text/plain": [
       "<Figure size 576x288 with 1 Axes>"
      ]
     },
     "metadata": {
      "needs_background": "light"
     },
     "output_type": "display_data"
    }
   ],
   "source": [
    "rcParams['figure.figsize'] = 8, 4\n",
    "by_state1.plot(kind='barh',figsize= (8,4),rot=0, color ='cornflowerblue')\n",
    "plt.xlabel(\"Life_exp\", labelpad=12)\n",
    "plt.xlim(75,83)\n",
    "plt.ylabel(\"State\", labelpad=12)\n",
    "plt.title(\"Life expectancy by top 5 states in the US\", y=1.02)\n",
    "plt.show()"
   ]
  },
  {
   "cell_type": "markdown",
   "metadata": {},
   "source": [
    "5. Average life expectancy for all Americans is highest in 2013 and 2014 for the period of 2008-2017"
   ]
  },
  {
   "cell_type": "code",
   "execution_count": 29,
   "metadata": {},
   "outputs": [
    {
     "data": {
      "text/html": [
       "<div>\n",
       "<style scoped>\n",
       "    .dataframe tbody tr th:only-of-type {\n",
       "        vertical-align: middle;\n",
       "    }\n",
       "\n",
       "    .dataframe tbody tr th {\n",
       "        vertical-align: top;\n",
       "    }\n",
       "\n",
       "    .dataframe thead th {\n",
       "        text-align: right;\n",
       "    }\n",
       "</style>\n",
       "<table border=\"1\" class=\"dataframe\">\n",
       "  <thead>\n",
       "    <tr style=\"text-align: right;\">\n",
       "      <th></th>\n",
       "      <th>avg_lifeexp</th>\n",
       "    </tr>\n",
       "    <tr>\n",
       "      <th>year</th>\n",
       "      <th></th>\n",
       "    </tr>\n",
       "  </thead>\n",
       "  <tbody>\n",
       "    <tr>\n",
       "      <th>2008</th>\n",
       "      <td>78.36305</td>\n",
       "    </tr>\n",
       "    <tr>\n",
       "      <th>2009</th>\n",
       "      <td>78.40680</td>\n",
       "    </tr>\n",
       "    <tr>\n",
       "      <th>2010</th>\n",
       "      <td>78.47120</td>\n",
       "    </tr>\n",
       "    <tr>\n",
       "      <th>2011</th>\n",
       "      <td>78.47645</td>\n",
       "    </tr>\n",
       "    <tr>\n",
       "      <th>2012</th>\n",
       "      <td>78.50510</td>\n",
       "    </tr>\n",
       "    <tr>\n",
       "      <th>2013</th>\n",
       "      <td>78.51340</td>\n",
       "    </tr>\n",
       "    <tr>\n",
       "      <th>2014</th>\n",
       "      <td>78.50900</td>\n",
       "    </tr>\n",
       "    <tr>\n",
       "      <th>2015</th>\n",
       "      <td>78.46765</td>\n",
       "    </tr>\n",
       "    <tr>\n",
       "      <th>2016</th>\n",
       "      <td>78.43445</td>\n",
       "    </tr>\n",
       "    <tr>\n",
       "      <th>2017</th>\n",
       "      <td>78.42660</td>\n",
       "    </tr>\n",
       "  </tbody>\n",
       "</table>\n",
       "</div>"
      ],
      "text/plain": [
       "      avg_lifeexp\n",
       "year             \n",
       "2008     78.36305\n",
       "2009     78.40680\n",
       "2010     78.47120\n",
       "2011     78.47645\n",
       "2012     78.50510\n",
       "2013     78.51340\n",
       "2014     78.50900\n",
       "2015     78.46765\n",
       "2016     78.43445\n",
       "2017     78.42660"
      ]
     },
     "execution_count": 29,
     "metadata": {},
     "output_type": "execute_result"
    }
   ],
   "source": [
    "by_year = train_lifeexpfact[['year','avg_lifeexp']].groupby('year').mean()\n",
    "by_year = pd.DataFrame(by_year)\n",
    "by_year"
   ]
  },
  {
   "cell_type": "code",
   "execution_count": 30,
   "metadata": {},
   "outputs": [
    {
     "data": {
      "image/png": "[encoded data removed]",
      "text/plain": [
       "<Figure size 576x288 with 1 Axes>"
      ]
     },
     "metadata": {
      "needs_background": "light"
     },
     "output_type": "display_data"
    }
   ],
   "source": [
    "rcParams['figure.figsize'] = 8, 4\n",
    "by_year.plot(kind='line',figsize= (8,4),rot=0, color ='cornflowerblue')\n",
    "plt.xlabel(\"Year\", labelpad=12)\n",
    "plt.ylabel(\"Life expectancy\", labelpad=12)\n",
    "plt.ylim(77.0,79.0)\n",
    "plt.title(\"Yearly average life expectancy in the US\", y=1.02)\n",
    "plt.show()"
   ]
  },
  {
   "cell_type": "markdown",
   "metadata": {},
   "source": [
    "# Correlation matrix (Spearman's)"
   ]
  },
  {
   "cell_type": "markdown",
   "metadata": {},
   "source": [
    "Spearman's correlation is used to check the correlations among predictors for life expectancy\n",
    "Due to nominal and non-parametric features, Spearman's correlation is pursued"
   ]
  },
  {
   "cell_type": "code",
   "execution_count": 31,
   "metadata": {},
   "outputs": [
    {
     "data": {
      "text/plain": [
       "<matplotlib.axes._subplots.AxesSubplot at 0x241ad86bef0>"
      ]
     },
     "execution_count": 31,
     "metadata": {},
     "output_type": "execute_result"
    },
    {
     "data": {
      "image/png": "[encoded data removed]",
      "text/plain": [
       "<Figure size 720x504 with 2 Axes>"
      ]
     },
     "metadata": {},
     "output_type": "display_data"
    }
   ],
   "source": [
    "corr = train_lifeexpfact.corr(method = \"spearman\")\n",
    "corr[np.abs(corr)<.1] = 0\n",
    "sns.set(rc={'figure.figsize':(10,7)})\n",
    "mask = np.zeros_like(corr, dtype=np.bool)\n",
    "mask[np.triu_indices_from(mask)]= True\n",
    "sns.heatmap(corr, mask=mask, cmap=\"seismic\", annot=True, vmin=-1, vmax=1)"
   ]
  },
  {
   "cell_type": "markdown",
   "metadata": {},
   "source": [
    "Seems like average overall lifeexpentancy has highly negative correlation with mortality and gender (life expentancy, most likely, increases if mortality risk decreases and gender gap in life expectancy decreases) and slight correlation for income bracket (which infers life expentancy is more likely to increase with income bracket). Correlation is very insignifcant for race and state. Interest to note that expenditure per capital income for US citizens has been positively correlated with year and negatively correlated with uninsured rate (which may infer "
   ]
  },
  {
   "cell_type": "markdown",
   "metadata": {},
   "source": [
    "# Ordinary Least Squares Regression Model"
   ]
  },
  {
   "cell_type": "code",
   "execution_count": 32,
   "metadata": {},
   "outputs": [],
   "source": [
    "#reorder the columns\n",
    "lifeexpfact_metadata = train_lifeexpfact[['year', 'stateid', 'raceid', 'genderid', 'incomeid', \n",
    "                                    'uninsuredrate','percentpopincome', 'expend_per_cap', \n",
    "                                    'hospitals_per_100k','mortality','avg_lifeexp']]"
   ]
  },
  {
   "cell_type": "code",
   "execution_count": 33,
   "metadata": {
    "scrolled": false
   },
   "outputs": [
    {
     "data": {
      "text/plain": [
       "(12000, 11)"
      ]
     },
     "execution_count": 33,
     "metadata": {},
     "output_type": "execute_result"
    }
   ],
   "source": [
    "lifeexpfact_metadata.shape"
   ]
  },
  {
   "cell_type": "code",
   "execution_count": 34,
   "metadata": {},
   "outputs": [
    {
     "data": {
      "text/html": [
       "<div>\n",
       "<style scoped>\n",
       "    .dataframe tbody tr th:only-of-type {\n",
       "        vertical-align: middle;\n",
       "    }\n",
       "\n",
       "    .dataframe tbody tr th {\n",
       "        vertical-align: top;\n",
       "    }\n",
       "\n",
       "    .dataframe thead th {\n",
       "        text-align: right;\n",
       "    }\n",
       "</style>\n",
       "<table border=\"1\" class=\"dataframe\">\n",
       "  <thead>\n",
       "    <tr style=\"text-align: right;\">\n",
       "      <th></th>\n",
       "      <th>const</th>\n",
       "      <th>year</th>\n",
       "      <th>stateid</th>\n",
       "      <th>raceid</th>\n",
       "      <th>genderid</th>\n",
       "      <th>incomeid</th>\n",
       "      <th>uninsuredrate</th>\n",
       "      <th>percentpopincome</th>\n",
       "      <th>expend_per_cap</th>\n",
       "      <th>hospitals_per_100k</th>\n",
       "      <th>mortality</th>\n",
       "    </tr>\n",
       "  </thead>\n",
       "  <tbody>\n",
       "    <tr>\n",
       "      <th>0</th>\n",
       "      <td>1.0</td>\n",
       "      <td>2008.0</td>\n",
       "      <td>1.0</td>\n",
       "      <td>1.0</td>\n",
       "      <td>1.0</td>\n",
       "      <td>1.0</td>\n",
       "      <td>12.91</td>\n",
       "      <td>0.0</td>\n",
       "      <td>6325.0</td>\n",
       "      <td>2.31</td>\n",
       "      <td>14.86</td>\n",
       "    </tr>\n",
       "    <tr>\n",
       "      <th>1</th>\n",
       "      <td>1.0</td>\n",
       "      <td>2009.0</td>\n",
       "      <td>1.0</td>\n",
       "      <td>1.0</td>\n",
       "      <td>1.0</td>\n",
       "      <td>1.0</td>\n",
       "      <td>13.39</td>\n",
       "      <td>0.0</td>\n",
       "      <td>6325.0</td>\n",
       "      <td>2.27</td>\n",
       "      <td>14.86</td>\n",
       "    </tr>\n",
       "    <tr>\n",
       "      <th>2</th>\n",
       "      <td>1.0</td>\n",
       "      <td>2010.0</td>\n",
       "      <td>1.0</td>\n",
       "      <td>1.0</td>\n",
       "      <td>1.0</td>\n",
       "      <td>1.0</td>\n",
       "      <td>14.15</td>\n",
       "      <td>0.0</td>\n",
       "      <td>6421.0</td>\n",
       "      <td>2.16</td>\n",
       "      <td>14.86</td>\n",
       "    </tr>\n",
       "    <tr>\n",
       "      <th>3</th>\n",
       "      <td>1.0</td>\n",
       "      <td>2011.0</td>\n",
       "      <td>1.0</td>\n",
       "      <td>1.0</td>\n",
       "      <td>1.0</td>\n",
       "      <td>1.0</td>\n",
       "      <td>13.84</td>\n",
       "      <td>0.0</td>\n",
       "      <td>6541.0</td>\n",
       "      <td>2.09</td>\n",
       "      <td>14.86</td>\n",
       "    </tr>\n",
       "    <tr>\n",
       "      <th>4</th>\n",
       "      <td>1.0</td>\n",
       "      <td>2012.0</td>\n",
       "      <td>1.0</td>\n",
       "      <td>1.0</td>\n",
       "      <td>1.0</td>\n",
       "      <td>1.0</td>\n",
       "      <td>12.93</td>\n",
       "      <td>0.0</td>\n",
       "      <td>6821.0</td>\n",
       "      <td>1.98</td>\n",
       "      <td>14.86</td>\n",
       "    </tr>\n",
       "  </tbody>\n",
       "</table>\n",
       "</div>"
      ],
      "text/plain": [
       "   const    year  stateid  raceid  genderid  incomeid  uninsuredrate  \\\n",
       "0    1.0  2008.0      1.0     1.0       1.0       1.0          12.91   \n",
       "1    1.0  2009.0      1.0     1.0       1.0       1.0          13.39   \n",
       "2    1.0  2010.0      1.0     1.0       1.0       1.0          14.15   \n",
       "3    1.0  2011.0      1.0     1.0       1.0       1.0          13.84   \n",
       "4    1.0  2012.0      1.0     1.0       1.0       1.0          12.93   \n",
       "\n",
       "   percentpopincome  expend_per_cap  hospitals_per_100k  mortality  \n",
       "0               0.0          6325.0                2.31      14.86  \n",
       "1               0.0          6325.0                2.27      14.86  \n",
       "2               0.0          6421.0                2.16      14.86  \n",
       "3               0.0          6541.0                2.09      14.86  \n",
       "4               0.0          6821.0                1.98      14.86  "
      ]
     },
     "execution_count": 34,
     "metadata": {},
     "output_type": "execute_result"
    }
   ],
   "source": [
    "# select features\n",
    "X1 = lifeexpfact_metadata[['year', 'stateid', 'raceid', 'genderid', 'incomeid', \n",
    "                                    'uninsuredrate','percentpopincome', 'expend_per_cap', \n",
    "                                    'hospitals_per_100k','mortality']].astype(float)\n",
    "#to include constant 1\n",
    "X= sm.add_constant(X1)\n",
    "X.head()"
   ]
  },
  {
   "cell_type": "code",
   "execution_count": 35,
   "metadata": {},
   "outputs": [
    {
     "data": {
      "text/html": [
       "<div>\n",
       "<style scoped>\n",
       "    .dataframe tbody tr th:only-of-type {\n",
       "        vertical-align: middle;\n",
       "    }\n",
       "\n",
       "    .dataframe tbody tr th {\n",
       "        vertical-align: top;\n",
       "    }\n",
       "\n",
       "    .dataframe thead th {\n",
       "        text-align: right;\n",
       "    }\n",
       "</style>\n",
       "<table border=\"1\" class=\"dataframe\">\n",
       "  <thead>\n",
       "    <tr style=\"text-align: right;\">\n",
       "      <th></th>\n",
       "      <th>avg_lifeexp</th>\n",
       "    </tr>\n",
       "  </thead>\n",
       "  <tbody>\n",
       "    <tr>\n",
       "      <th>0</th>\n",
       "      <td>78.0075</td>\n",
       "    </tr>\n",
       "    <tr>\n",
       "      <th>1</th>\n",
       "      <td>78.0450</td>\n",
       "    </tr>\n",
       "    <tr>\n",
       "      <th>2</th>\n",
       "      <td>78.1075</td>\n",
       "    </tr>\n",
       "    <tr>\n",
       "      <th>3</th>\n",
       "      <td>78.1075</td>\n",
       "    </tr>\n",
       "    <tr>\n",
       "      <th>4</th>\n",
       "      <td>78.1250</td>\n",
       "    </tr>\n",
       "  </tbody>\n",
       "</table>\n",
       "</div>"
      ],
      "text/plain": [
       "   avg_lifeexp\n",
       "0      78.0075\n",
       "1      78.0450\n",
       "2      78.1075\n",
       "3      78.1075\n",
       "4      78.1250"
      ]
     },
     "execution_count": 35,
     "metadata": {},
     "output_type": "execute_result"
    }
   ],
   "source": [
    "# select target variable\n",
    "Y = lifeexpfact_metadata[['avg_lifeexp']].astype(float)\n",
    "Y.head()"
   ]
  },
  {
   "cell_type": "markdown",
   "metadata": {},
   "source": [
    "## Fit linear regression model using statsmodel"
   ]
  },
  {
   "cell_type": "code",
   "execution_count": 36,
   "metadata": {},
   "outputs": [
    {
     "data": {
      "text/html": [
       "<table class=\"simpletable\">\n",
       "<caption>OLS Regression Results</caption>\n",
       "<tr>\n",
       "  <th>Dep. Variable:</th>       <td>avg_lifeexp</td>   <th>  R-squared:         </th> <td>   0.836</td> \n",
       "</tr>\n",
       "<tr>\n",
       "  <th>Model:</th>                   <td>OLS</td>       <th>  Adj. R-squared:    </th> <td>   0.836</td> \n",
       "</tr>\n",
       "<tr>\n",
       "  <th>Method:</th>             <td>Least Squares</td>  <th>  F-statistic:       </th> <td>   6116.</td> \n",
       "</tr>\n",
       "<tr>\n",
       "  <th>Date:</th>             <td>Sun, 24 Nov 2019</td> <th>  Prob (F-statistic):</th>  <td>  0.00</td>  \n",
       "</tr>\n",
       "<tr>\n",
       "  <th>Time:</th>                 <td>21:56:43</td>     <th>  Log-Likelihood:    </th> <td> -15091.</td> \n",
       "</tr>\n",
       "<tr>\n",
       "  <th>No. Observations:</th>      <td> 12000</td>      <th>  AIC:               </th> <td>3.020e+04</td>\n",
       "</tr>\n",
       "<tr>\n",
       "  <th>Df Residuals:</th>          <td> 11989</td>      <th>  BIC:               </th> <td>3.029e+04</td>\n",
       "</tr>\n",
       "<tr>\n",
       "  <th>Df Model:</th>              <td>    10</td>      <th>                     </th>     <td> </td>    \n",
       "</tr>\n",
       "<tr>\n",
       "  <th>Covariance Type:</th>      <td>nonrobust</td>    <th>                     </th>     <td> </td>    \n",
       "</tr>\n",
       "</table>\n",
       "<table class=\"simpletable\">\n",
       "<tr>\n",
       "           <td></td>             <th>coef</th>     <th>std err</th>      <th>t</th>      <th>P>|t|</th>  <th>[0.025</th>    <th>0.975]</th>  \n",
       "</tr>\n",
       "<tr>\n",
       "  <th>const</th>              <td>  174.5396</td> <td>    6.629</td> <td>   26.329</td> <td> 0.000</td> <td>  161.545</td> <td>  187.534</td>\n",
       "</tr>\n",
       "<tr>\n",
       "  <th>year</th>               <td>   -0.0448</td> <td>    0.003</td> <td>  -13.547</td> <td> 0.000</td> <td>   -0.051</td> <td>   -0.038</td>\n",
       "</tr>\n",
       "<tr>\n",
       "  <th>stateid</th>            <td>    0.0035</td> <td>    0.001</td> <td>    7.039</td> <td> 0.000</td> <td>    0.003</td> <td>    0.005</td>\n",
       "</tr>\n",
       "<tr>\n",
       "  <th>raceid</th>             <td>    0.2563</td> <td>    0.010</td> <td>   26.921</td> <td> 0.000</td> <td>    0.238</td> <td>    0.275</td>\n",
       "</tr>\n",
       "<tr>\n",
       "  <th>genderid</th>           <td>    1.0378</td> <td>    0.055</td> <td>   18.876</td> <td> 0.000</td> <td>    0.930</td> <td>    1.146</td>\n",
       "</tr>\n",
       "<tr>\n",
       "  <th>incomeid</th>           <td>    0.6145</td> <td>    0.007</td> <td>   88.330</td> <td> 0.000</td> <td>    0.601</td> <td>    0.628</td>\n",
       "</tr>\n",
       "<tr>\n",
       "  <th>uninsuredrate</th>      <td> 6.393e-05</td> <td>    0.000</td> <td>    0.521</td> <td> 0.602</td> <td>   -0.000</td> <td>    0.000</td>\n",
       "</tr>\n",
       "<tr>\n",
       "  <th>percentpopincome</th>   <td>    0.3949</td> <td>    0.031</td> <td>   12.607</td> <td> 0.000</td> <td>    0.334</td> <td>    0.456</td>\n",
       "</tr>\n",
       "<tr>\n",
       "  <th>expend_per_cap</th>     <td>    0.0002</td> <td> 7.13e-06</td> <td>   25.472</td> <td> 0.000</td> <td>    0.000</td> <td>    0.000</td>\n",
       "</tr>\n",
       "<tr>\n",
       "  <th>hospitals_per_100k</th> <td>   -0.0847</td> <td>    0.006</td> <td>  -13.338</td> <td> 0.000</td> <td>   -0.097</td> <td>   -0.072</td>\n",
       "</tr>\n",
       "<tr>\n",
       "  <th>mortality</th>          <td>   -0.6240</td> <td>    0.008</td> <td>  -82.145</td> <td> 0.000</td> <td>   -0.639</td> <td>   -0.609</td>\n",
       "</tr>\n",
       "</table>\n",
       "<table class=\"simpletable\">\n",
       "<tr>\n",
       "  <th>Omnibus:</th>       <td>1351.503</td> <th>  Durbin-Watson:     </th> <td>   0.073</td> \n",
       "</tr>\n",
       "<tr>\n",
       "  <th>Prob(Omnibus):</th>  <td> 0.000</td>  <th>  Jarque-Bera (JB):  </th> <td> 866.295</td> \n",
       "</tr>\n",
       "<tr>\n",
       "  <th>Skew:</th>           <td>-0.537</td>  <th>  Prob(JB):          </th> <td>7.70e-189</td>\n",
       "</tr>\n",
       "<tr>\n",
       "  <th>Kurtosis:</th>       <td> 2.240</td>  <th>  Cond. No.          </th> <td>7.03e+06</td> \n",
       "</tr>\n",
       "</table><br/><br/>Warnings:<br/>[1] Standard Errors assume that the covariance matrix of the errors is correctly specified.<br/>[2] The condition number is large, 7.03e+06. This might indicate that there are<br/>strong multicollinearity or other numerical problems."
      ],
      "text/plain": [
       "<class 'statsmodels.iolib.summary.Summary'>\n",
       "\"\"\"\n",
       "                            OLS Regression Results                            \n",
       "==============================================================================\n",
       "Dep. Variable:            avg_lifeexp   R-squared:                       0.836\n",
       "Model:                            OLS   Adj. R-squared:                  0.836\n",
       "Method:                 Least Squares   F-statistic:                     6116.\n",
       "Date:                Sun, 24 Nov 2019   Prob (F-statistic):               0.00\n",
       "Time:                        21:56:43   Log-Likelihood:                -15091.\n",
       "No. Observations:               12000   AIC:                         3.020e+04\n",
       "Df Residuals:                   11989   BIC:                         3.029e+04\n",
       "Df Model:                          10                                         \n",
       "Covariance Type:            nonrobust                                         \n",
       "======================================================================================\n",
       "                         coef    std err          t      P>|t|      [0.025      0.975]\n",
       "--------------------------------------------------------------------------------------\n",
       "const                174.5396      6.629     26.329      0.000     161.545     187.534\n",
       "year                  -0.0448      0.003    -13.547      0.000      -0.051      -0.038\n",
       "stateid                0.0035      0.001      7.039      0.000       0.003       0.005\n",
       "raceid                 0.2563      0.010     26.921      0.000       0.238       0.275\n",
       "genderid               1.0378      0.055     18.876      0.000       0.930       1.146\n",
       "incomeid               0.6145      0.007     88.330      0.000       0.601       0.628\n",
       "uninsuredrate       6.393e-05      0.000      0.521      0.602      -0.000       0.000\n",
       "percentpopincome       0.3949      0.031     12.607      0.000       0.334       0.456\n",
       "expend_per_cap         0.0002   7.13e-06     25.472      0.000       0.000       0.000\n",
       "hospitals_per_100k    -0.0847      0.006    -13.338      0.000      -0.097      -0.072\n",
       "mortality             -0.6240      0.008    -82.145      0.000      -0.639      -0.609\n",
       "==============================================================================\n",
       "Omnibus:                     1351.503   Durbin-Watson:                   0.073\n",
       "Prob(Omnibus):                  0.000   Jarque-Bera (JB):              866.295\n",
       "Skew:                          -0.537   Prob(JB):                    7.70e-189\n",
       "Kurtosis:                       2.240   Cond. No.                     7.03e+06\n",
       "==============================================================================\n",
       "\n",
       "Warnings:\n",
       "[1] Standard Errors assume that the covariance matrix of the errors is correctly specified.\n",
       "[2] The condition number is large, 7.03e+06. This might indicate that there are\n",
       "strong multicollinearity or other numerical problems.\n",
       "\"\"\""
      ]
     },
     "execution_count": 36,
     "metadata": {},
     "output_type": "execute_result"
    }
   ],
   "source": [
    "# fit the linear regression model\n",
    "model = sm.OLS(Y,X)\n",
    "results = model.fit()\n",
    "results.summary()"
   ]
  },
  {
   "cell_type": "markdown",
   "metadata": {},
   "source": [
    "Results show gender, income bracket and mortality are more sensitive features than the others. And R squared is high and is closed to R squared adjusted"
   ]
  },
  {
   "cell_type": "markdown",
   "metadata": {},
   "source": [
    "# Selection of important features for this model"
   ]
  },
  {
   "cell_type": "code",
   "execution_count": 37,
   "metadata": {},
   "outputs": [],
   "source": [
    "from sklearn.model_selection import train_test_split\n",
    "from sklearn.linear_model import LinearRegression\n",
    "from sklearn.feature_selection import RFE\n",
    "from sklearn.linear_model import RidgeCV, LassoCV, Ridge, Lasso"
   ]
  },
  {
   "cell_type": "markdown",
   "metadata": {},
   "source": [
    "Check the ranking of the features using principal component analysis, recursive feature elimination and Lasso model"
   ]
  },
  {
   "cell_type": "markdown",
   "metadata": {},
   "source": [
    "## Let's use principal component analysis to rank the features"
   ]
  },
  {
   "cell_type": "code",
   "execution_count": 39,
   "metadata": {},
   "outputs": [
    {
     "data": {
      "text/plain": [
       "PCA(copy=True, iterated_power='auto', n_components=5, random_state=None,\n",
       "    svd_solver='auto', tol=0.0, whiten=False)"
      ]
     },
     "execution_count": 39,
     "metadata": {},
     "output_type": "execute_result"
    }
   ],
   "source": [
    "#principal component analysis (PCA)\n",
    "from sklearn.decomposition import PCA\n",
    "# set components to 5\n",
    "pca = PCA(n_components=5)\n",
    "pca.fit(X1) #fit pca model"
   ]
  },
  {
   "cell_type": "code",
   "execution_count": 40,
   "metadata": {},
   "outputs": [
    {
     "name": "stdout",
     "output_type": "stream",
     "text": [
      "[[ 1.20631506e-03  6.13403000e-04 -4.38386706e-19  2.39773661e-11\n",
      "  -3.49138593e-17 -6.62847767e-03 -5.55848655e-09  9.99977113e-01\n",
      "   6.58271588e-05  2.48470064e-05]\n",
      " [ 1.15195549e-03  4.08720895e-03  1.11022312e-16 -2.07235758e-08\n",
      "   1.26937640e-12 -9.99968961e-01  4.50907694e-07 -6.63230369e-03\n",
      "  -2.36382500e-04 -4.79414283e-05]\n",
      " [ 5.69190439e-03 -9.99922927e-01 -4.71128207e-21  6.73576664e-06\n",
      "  -3.06474884e-11 -4.08194747e-03 -6.56727814e-07  5.80093061e-04\n",
      "  -1.01908585e-02  9.43643486e-04]\n",
      " [ 5.21337232e-03 -1.29365268e-03 -6.74807438e-16 -1.30109167e-01\n",
      "   3.28533304e-09  3.91252238e-05  3.55161450e-06  1.68800184e-05\n",
      "   3.80026590e-02 -9.90756553e-01]\n",
      " [ 9.95923014e-01  6.58171453e-03 -2.17707760e-16  5.49475818e-04\n",
      "   1.68439697e-08  1.20327686e-03  6.56160014e-06 -1.19160801e-03\n",
      "  -8.99329609e-02  1.71025517e-03]]\n"
     ]
    }
   ],
   "source": [
    "# print out pca's 5 factor loadings\n",
    "print(pca.components_)"
   ]
  },
  {
   "cell_type": "markdown",
   "metadata": {},
   "source": [
    "Now that we have the factor loadings, we would like to know how many components/loadings required to explain the data"
   ]
  },
  {
   "cell_type": "code",
   "execution_count": 41,
   "metadata": {},
   "outputs": [
    {
     "data": {
      "image/png": "[encoded data removed]",
      "text/plain": [
       "<Figure size 720x504 with 1 Axes>"
      ]
     },
     "metadata": {},
     "output_type": "display_data"
    }
   ],
   "source": [
    "plt.plot(np.cumsum(pca.explained_variance_ratio_))\n",
    "plt.xlabel('number of components')\n",
    "plt.ylabel('cumulative explained variance');"
   ]
  },
  {
   "cell_type": "markdown",
   "metadata": {},
   "source": [
    "The curve shows the most of the variance of the data can explained with 2 components"
   ]
  },
  {
   "cell_type": "code",
   "execution_count": 42,
   "metadata": {},
   "outputs": [
    {
     "data": {
      "text/html": [
       "<div>\n",
       "<style scoped>\n",
       "    .dataframe tbody tr th:only-of-type {\n",
       "        vertical-align: middle;\n",
       "    }\n",
       "\n",
       "    .dataframe tbody tr th {\n",
       "        vertical-align: top;\n",
       "    }\n",
       "\n",
       "    .dataframe thead th {\n",
       "        text-align: right;\n",
       "    }\n",
       "</style>\n",
       "<table border=\"1\" class=\"dataframe\">\n",
       "  <thead>\n",
       "    <tr style=\"text-align: right;\">\n",
       "      <th></th>\n",
       "      <th>features</th>\n",
       "      <th>pca1 loadings</th>\n",
       "      <th>pca2 loadings</th>\n",
       "    </tr>\n",
       "  </thead>\n",
       "  <tbody>\n",
       "    <tr>\n",
       "      <th>0</th>\n",
       "      <td>year</td>\n",
       "      <td>1.206315e-03</td>\n",
       "      <td>1.151955e-03</td>\n",
       "    </tr>\n",
       "    <tr>\n",
       "      <th>1</th>\n",
       "      <td>stateid</td>\n",
       "      <td>6.134030e-04</td>\n",
       "      <td>4.087209e-03</td>\n",
       "    </tr>\n",
       "    <tr>\n",
       "      <th>2</th>\n",
       "      <td>raceid</td>\n",
       "      <td>-4.383867e-19</td>\n",
       "      <td>1.110223e-16</td>\n",
       "    </tr>\n",
       "    <tr>\n",
       "      <th>3</th>\n",
       "      <td>genderid</td>\n",
       "      <td>2.397737e-11</td>\n",
       "      <td>-2.072358e-08</td>\n",
       "    </tr>\n",
       "    <tr>\n",
       "      <th>4</th>\n",
       "      <td>incomeid</td>\n",
       "      <td>-3.491386e-17</td>\n",
       "      <td>1.269376e-12</td>\n",
       "    </tr>\n",
       "    <tr>\n",
       "      <th>5</th>\n",
       "      <td>uninsuredrate</td>\n",
       "      <td>-6.628478e-03</td>\n",
       "      <td>-9.999690e-01</td>\n",
       "    </tr>\n",
       "    <tr>\n",
       "      <th>6</th>\n",
       "      <td>percentpopincome</td>\n",
       "      <td>-5.558487e-09</td>\n",
       "      <td>4.509077e-07</td>\n",
       "    </tr>\n",
       "    <tr>\n",
       "      <th>7</th>\n",
       "      <td>expend_per_cap</td>\n",
       "      <td>9.999771e-01</td>\n",
       "      <td>-6.632304e-03</td>\n",
       "    </tr>\n",
       "    <tr>\n",
       "      <th>8</th>\n",
       "      <td>hospitals_per_100k</td>\n",
       "      <td>6.582716e-05</td>\n",
       "      <td>-2.363825e-04</td>\n",
       "    </tr>\n",
       "    <tr>\n",
       "      <th>9</th>\n",
       "      <td>mortality</td>\n",
       "      <td>2.484701e-05</td>\n",
       "      <td>-4.794143e-05</td>\n",
       "    </tr>\n",
       "  </tbody>\n",
       "</table>\n",
       "</div>"
      ],
      "text/plain": [
       "             features  pca1 loadings  pca2 loadings\n",
       "0                year   1.206315e-03   1.151955e-03\n",
       "1             stateid   6.134030e-04   4.087209e-03\n",
       "2              raceid  -4.383867e-19   1.110223e-16\n",
       "3            genderid   2.397737e-11  -2.072358e-08\n",
       "4            incomeid  -3.491386e-17   1.269376e-12\n",
       "5       uninsuredrate  -6.628478e-03  -9.999690e-01\n",
       "6    percentpopincome  -5.558487e-09   4.509077e-07\n",
       "7      expend_per_cap   9.999771e-01  -6.632304e-03\n",
       "8  hospitals_per_100k   6.582716e-05  -2.363825e-04\n",
       "9           mortality   2.484701e-05  -4.794143e-05"
      ]
     },
     "execution_count": 42,
     "metadata": {},
     "output_type": "execute_result"
    }
   ],
   "source": [
    "# print out the first and second component\n",
    "col = pd.DataFrame(X1.columns, columns=['features'])\n",
    "pca1 = pd.DataFrame(pca.components_[0], columns =['pca1 loadings'])\n",
    "pca2 = pd.DataFrame(pca.components_[1], columns =['pca2 loadings'])\n",
    "feature_pca = pd.concat([col,pca1,pca2],axis=1)\n",
    "feature_pca"
   ]
  },
  {
   "cell_type": "code",
   "execution_count": 43,
   "metadata": {},
   "outputs": [
    {
     "data": {
      "text/html": [
       "<div>\n",
       "<style scoped>\n",
       "    .dataframe tbody tr th:only-of-type {\n",
       "        vertical-align: middle;\n",
       "    }\n",
       "\n",
       "    .dataframe tbody tr th {\n",
       "        vertical-align: top;\n",
       "    }\n",
       "\n",
       "    .dataframe thead th {\n",
       "        text-align: right;\n",
       "    }\n",
       "</style>\n",
       "<table border=\"1\" class=\"dataframe\">\n",
       "  <thead>\n",
       "    <tr style=\"text-align: right;\">\n",
       "      <th></th>\n",
       "      <th>const</th>\n",
       "      <th>pca1</th>\n",
       "      <th>pca2</th>\n",
       "      <th>pca3</th>\n",
       "      <th>pca4</th>\n",
       "      <th>pca5</th>\n",
       "    </tr>\n",
       "  </thead>\n",
       "  <tbody>\n",
       "    <tr>\n",
       "      <th>0</th>\n",
       "      <td>1.0</td>\n",
       "      <td>-1563.462453</td>\n",
       "      <td>4.845280</td>\n",
       "      <td>27.359258</td>\n",
       "      <td>2.774068</td>\n",
       "      <td>-2.815493</td>\n",
       "    </tr>\n",
       "    <tr>\n",
       "      <th>1</th>\n",
       "      <td>1.0</td>\n",
       "      <td>-1563.464431</td>\n",
       "      <td>4.366456</td>\n",
       "      <td>27.363398</td>\n",
       "      <td>2.777780</td>\n",
       "      <td>-1.815396</td>\n",
       "    </tr>\n",
       "    <tr>\n",
       "      <th>2</th>\n",
       "      <td>1.0</td>\n",
       "      <td>-1467.470466</td>\n",
       "      <td>2.970957</td>\n",
       "      <td>27.422798</td>\n",
       "      <td>2.780463</td>\n",
       "      <td>-0.923060</td>\n",
       "    </tr>\n",
       "    <tr>\n",
       "      <th>3</th>\n",
       "      <td>1.0</td>\n",
       "      <td>-1347.469956</td>\n",
       "      <td>2.486239</td>\n",
       "      <td>27.500080</td>\n",
       "      <td>2.785030</td>\n",
       "      <td>-0.064207</td>\n",
       "    </tr>\n",
       "    <tr>\n",
       "      <th>4</th>\n",
       "      <td>1.0</td>\n",
       "      <td>-1067.469133</td>\n",
       "      <td>1.540344</td>\n",
       "      <td>27.673033</td>\n",
       "      <td>2.790754</td>\n",
       "      <td>0.606863</td>\n",
       "    </tr>\n",
       "  </tbody>\n",
       "</table>\n",
       "</div>"
      ],
      "text/plain": [
       "   const         pca1      pca2       pca3      pca4      pca5\n",
       "0    1.0 -1563.462453  4.845280  27.359258  2.774068 -2.815493\n",
       "1    1.0 -1563.464431  4.366456  27.363398  2.777780 -1.815396\n",
       "2    1.0 -1467.470466  2.970957  27.422798  2.780463 -0.923060\n",
       "3    1.0 -1347.469956  2.486239  27.500080  2.785030 -0.064207\n",
       "4    1.0 -1067.469133  1.540344  27.673033  2.790754  0.606863"
      ]
     },
     "execution_count": 43,
     "metadata": {},
     "output_type": "execute_result"
    }
   ],
   "source": [
    "# print out the PCA factor score\n",
    "X_pca = pca.transform(X1)\n",
    "X_pca = pd.DataFrame(X_pca, columns =['pca1','pca2','pca3','pca4','pca5'])\n",
    "X_pca= sm.add_constant(X_pca)\n",
    "X_pca.head()"
   ]
  },
  {
   "cell_type": "code",
   "execution_count": 44,
   "metadata": {},
   "outputs": [],
   "source": [
    "#reset index to run model with X_pca as predictors and Y2 as target variable\n",
    "Y2 = Y.reset_index()\n",
    "Y2 = Y2[['avg_lifeexp']]"
   ]
  },
  {
   "cell_type": "code",
   "execution_count": 45,
   "metadata": {},
   "outputs": [
    {
     "data": {
      "text/html": [
       "<table class=\"simpletable\">\n",
       "<caption>OLS Regression Results</caption>\n",
       "<tr>\n",
       "  <th>Dep. Variable:</th>       <td>avg_lifeexp</td>   <th>  R-squared:         </th> <td>   0.709</td> \n",
       "</tr>\n",
       "<tr>\n",
       "  <th>Model:</th>                   <td>OLS</td>       <th>  Adj. R-squared:    </th> <td>   0.709</td> \n",
       "</tr>\n",
       "<tr>\n",
       "  <th>Method:</th>             <td>Least Squares</td>  <th>  F-statistic:       </th> <td>   5838.</td> \n",
       "</tr>\n",
       "<tr>\n",
       "  <th>Date:</th>             <td>Sun, 24 Nov 2019</td> <th>  Prob (F-statistic):</th>  <td>  0.00</td>  \n",
       "</tr>\n",
       "<tr>\n",
       "  <th>Time:</th>                 <td>21:56:57</td>     <th>  Log-Likelihood:    </th> <td> -18540.</td> \n",
       "</tr>\n",
       "<tr>\n",
       "  <th>No. Observations:</th>      <td> 12000</td>      <th>  AIC:               </th> <td>3.709e+04</td>\n",
       "</tr>\n",
       "<tr>\n",
       "  <th>Df Residuals:</th>          <td> 11994</td>      <th>  BIC:               </th> <td>3.714e+04</td>\n",
       "</tr>\n",
       "<tr>\n",
       "  <th>Df Model:</th>              <td>     5</td>      <th>                     </th>     <td> </td>    \n",
       "</tr>\n",
       "<tr>\n",
       "  <th>Covariance Type:</th>      <td>nonrobust</td>    <th>                     </th>     <td> </td>    \n",
       "</tr>\n",
       "</table>\n",
       "<table class=\"simpletable\">\n",
       "<tr>\n",
       "    <td></td>       <th>coef</th>     <th>std err</th>      <th>t</th>      <th>P>|t|</th>  <th>[0.025</th>    <th>0.975]</th>  \n",
       "</tr>\n",
       "<tr>\n",
       "  <th>const</th> <td>   78.4574</td> <td>    0.010</td> <td> 7574.880</td> <td> 0.000</td> <td>   78.437</td> <td>   78.478</td>\n",
       "</tr>\n",
       "<tr>\n",
       "  <th>pca1</th>  <td>    0.0001</td> <td> 7.72e-06</td> <td>   14.020</td> <td> 0.000</td> <td> 9.31e-05</td> <td>    0.000</td>\n",
       "</tr>\n",
       "<tr>\n",
       "  <th>pca2</th>  <td> -5.22e-05</td> <td>    0.000</td> <td>   -0.319</td> <td> 0.749</td> <td>   -0.000</td> <td>    0.000</td>\n",
       "</tr>\n",
       "<tr>\n",
       "  <th>pca3</th>  <td>   -0.0035</td> <td>    0.001</td> <td>   -5.284</td> <td> 0.000</td> <td>   -0.005</td> <td>   -0.002</td>\n",
       "</tr>\n",
       "<tr>\n",
       "  <th>pca4</th>  <td>    0.4798</td> <td>    0.003</td> <td>  169.981</td> <td> 0.000</td> <td>    0.474</td> <td>    0.485</td>\n",
       "</tr>\n",
       "<tr>\n",
       "  <th>pca5</th>  <td>   -0.0375</td> <td>    0.004</td> <td>   -8.600</td> <td> 0.000</td> <td>   -0.046</td> <td>   -0.029</td>\n",
       "</tr>\n",
       "</table>\n",
       "<table class=\"simpletable\">\n",
       "<tr>\n",
       "  <th>Omnibus:</th>       <td>341.083</td> <th>  Durbin-Watson:     </th> <td>   0.047</td>\n",
       "</tr>\n",
       "<tr>\n",
       "  <th>Prob(Omnibus):</th> <td> 0.000</td>  <th>  Jarque-Bera (JB):  </th> <td> 242.366</td>\n",
       "</tr>\n",
       "<tr>\n",
       "  <th>Skew:</th>          <td>-0.244</td>  <th>  Prob(JB):          </th> <td>2.35e-53</td>\n",
       "</tr>\n",
       "<tr>\n",
       "  <th>Kurtosis:</th>      <td> 2.503</td>  <th>  Cond. No.          </th> <td>1.34e+03</td>\n",
       "</tr>\n",
       "</table><br/><br/>Warnings:<br/>[1] Standard Errors assume that the covariance matrix of the errors is correctly specified.<br/>[2] The condition number is large, 1.34e+03. This might indicate that there are<br/>strong multicollinearity or other numerical problems."
      ],
      "text/plain": [
       "<class 'statsmodels.iolib.summary.Summary'>\n",
       "\"\"\"\n",
       "                            OLS Regression Results                            \n",
       "==============================================================================\n",
       "Dep. Variable:            avg_lifeexp   R-squared:                       0.709\n",
       "Model:                            OLS   Adj. R-squared:                  0.709\n",
       "Method:                 Least Squares   F-statistic:                     5838.\n",
       "Date:                Sun, 24 Nov 2019   Prob (F-statistic):               0.00\n",
       "Time:                        21:56:57   Log-Likelihood:                -18540.\n",
       "No. Observations:               12000   AIC:                         3.709e+04\n",
       "Df Residuals:                   11994   BIC:                         3.714e+04\n",
       "Df Model:                           5                                         \n",
       "Covariance Type:            nonrobust                                         \n",
       "==============================================================================\n",
       "                 coef    std err          t      P>|t|      [0.025      0.975]\n",
       "------------------------------------------------------------------------------\n",
       "const         78.4574      0.010   7574.880      0.000      78.437      78.478\n",
       "pca1           0.0001   7.72e-06     14.020      0.000    9.31e-05       0.000\n",
       "pca2        -5.22e-05      0.000     -0.319      0.749      -0.000       0.000\n",
       "pca3          -0.0035      0.001     -5.284      0.000      -0.005      -0.002\n",
       "pca4           0.4798      0.003    169.981      0.000       0.474       0.485\n",
       "pca5          -0.0375      0.004     -8.600      0.000      -0.046      -0.029\n",
       "==============================================================================\n",
       "Omnibus:                      341.083   Durbin-Watson:                   0.047\n",
       "Prob(Omnibus):                  0.000   Jarque-Bera (JB):              242.366\n",
       "Skew:                          -0.244   Prob(JB):                     2.35e-53\n",
       "Kurtosis:                       2.503   Cond. No.                     1.34e+03\n",
       "==============================================================================\n",
       "\n",
       "Warnings:\n",
       "[1] Standard Errors assume that the covariance matrix of the errors is correctly specified.\n",
       "[2] The condition number is large, 1.34e+03. This might indicate that there are\n",
       "strong multicollinearity or other numerical problems.\n",
       "\"\"\""
      ]
     },
     "execution_count": 45,
     "metadata": {},
     "output_type": "execute_result"
    }
   ],
   "source": [
    "# fit linear model with PCA factor scores as predictors\n",
    "model = sm.OLS(Y2,X_pca)\n",
    "results = model.fit()\n",
    "results.summary()"
   ]
  },
  {
   "cell_type": "code",
   "execution_count": 46,
   "metadata": {},
   "outputs": [],
   "source": [
    "#which pca ranks the highest?\n",
    "# from the coefficients, pca1 and pca4 have the highest\n",
    "\n",
    "pca4 = pd.DataFrame(pca.components_[4], columns =['pca4 loadings'])\n",
    "feature_selection = pd.concat([col,pca1,pca4],axis=1)"
   ]
  },
  {
   "cell_type": "code",
   "execution_count": 47,
   "metadata": {},
   "outputs": [
    {
     "data": {
      "text/html": [
       "<div>\n",
       "<style scoped>\n",
       "    .dataframe tbody tr th:only-of-type {\n",
       "        vertical-align: middle;\n",
       "    }\n",
       "\n",
       "    .dataframe tbody tr th {\n",
       "        vertical-align: top;\n",
       "    }\n",
       "\n",
       "    .dataframe thead th {\n",
       "        text-align: right;\n",
       "    }\n",
       "</style>\n",
       "<table border=\"1\" class=\"dataframe\">\n",
       "  <thead>\n",
       "    <tr style=\"text-align: right;\">\n",
       "      <th></th>\n",
       "      <th>features</th>\n",
       "      <th>pca1 loadings</th>\n",
       "      <th>pca4 loadings</th>\n",
       "      <th>pca1_plus_pca4</th>\n",
       "    </tr>\n",
       "  </thead>\n",
       "  <tbody>\n",
       "    <tr>\n",
       "      <th>7</th>\n",
       "      <td>expend_per_cap</td>\n",
       "      <td>9.999771e-01</td>\n",
       "      <td>-1.191608e-03</td>\n",
       "      <td>9.987855e-01</td>\n",
       "    </tr>\n",
       "    <tr>\n",
       "      <th>0</th>\n",
       "      <td>year</td>\n",
       "      <td>1.206315e-03</td>\n",
       "      <td>9.959230e-01</td>\n",
       "      <td>9.971293e-01</td>\n",
       "    </tr>\n",
       "    <tr>\n",
       "      <th>1</th>\n",
       "      <td>stateid</td>\n",
       "      <td>6.134030e-04</td>\n",
       "      <td>6.581715e-03</td>\n",
       "      <td>7.195118e-03</td>\n",
       "    </tr>\n",
       "    <tr>\n",
       "      <th>9</th>\n",
       "      <td>mortality</td>\n",
       "      <td>2.484701e-05</td>\n",
       "      <td>1.710255e-03</td>\n",
       "      <td>1.735102e-03</td>\n",
       "    </tr>\n",
       "    <tr>\n",
       "      <th>3</th>\n",
       "      <td>genderid</td>\n",
       "      <td>2.397737e-11</td>\n",
       "      <td>5.494758e-04</td>\n",
       "      <td>5.494758e-04</td>\n",
       "    </tr>\n",
       "    <tr>\n",
       "      <th>6</th>\n",
       "      <td>percentpopincome</td>\n",
       "      <td>-5.558487e-09</td>\n",
       "      <td>6.561600e-06</td>\n",
       "      <td>6.556042e-06</td>\n",
       "    </tr>\n",
       "    <tr>\n",
       "      <th>4</th>\n",
       "      <td>incomeid</td>\n",
       "      <td>-3.491386e-17</td>\n",
       "      <td>1.684397e-08</td>\n",
       "      <td>1.684397e-08</td>\n",
       "    </tr>\n",
       "    <tr>\n",
       "      <th>2</th>\n",
       "      <td>raceid</td>\n",
       "      <td>-4.383867e-19</td>\n",
       "      <td>-2.177078e-16</td>\n",
       "      <td>-2.181461e-16</td>\n",
       "    </tr>\n",
       "    <tr>\n",
       "      <th>5</th>\n",
       "      <td>uninsuredrate</td>\n",
       "      <td>-6.628478e-03</td>\n",
       "      <td>1.203277e-03</td>\n",
       "      <td>-5.425201e-03</td>\n",
       "    </tr>\n",
       "    <tr>\n",
       "      <th>8</th>\n",
       "      <td>hospitals_per_100k</td>\n",
       "      <td>6.582716e-05</td>\n",
       "      <td>-8.993296e-02</td>\n",
       "      <td>-8.986713e-02</td>\n",
       "    </tr>\n",
       "  </tbody>\n",
       "</table>\n",
       "</div>"
      ],
      "text/plain": [
       "             features  pca1 loadings  pca4 loadings  pca1_plus_pca4\n",
       "7      expend_per_cap   9.999771e-01  -1.191608e-03    9.987855e-01\n",
       "0                year   1.206315e-03   9.959230e-01    9.971293e-01\n",
       "1             stateid   6.134030e-04   6.581715e-03    7.195118e-03\n",
       "9           mortality   2.484701e-05   1.710255e-03    1.735102e-03\n",
       "3            genderid   2.397737e-11   5.494758e-04    5.494758e-04\n",
       "6    percentpopincome  -5.558487e-09   6.561600e-06    6.556042e-06\n",
       "4            incomeid  -3.491386e-17   1.684397e-08    1.684397e-08\n",
       "2              raceid  -4.383867e-19  -2.177078e-16   -2.181461e-16\n",
       "5       uninsuredrate  -6.628478e-03   1.203277e-03   -5.425201e-03\n",
       "8  hospitals_per_100k   6.582716e-05  -8.993296e-02   -8.986713e-02"
      ]
     },
     "execution_count": 47,
     "metadata": {},
     "output_type": "execute_result"
    }
   ],
   "source": [
    "feature_selection['pca1_plus_pca4'] = pca1['pca1 loadings']+pca4['pca4 loadings']\n",
    "feature_selection.sort_values(ascending=False, by=['pca1_plus_pca4'])"
   ]
  },
  {
   "cell_type": "markdown",
   "metadata": {},
   "source": [
    "PCA1 and 4 rank expend_per_cap first, then year, state, mortality, genderid, percentpopincome, incomeid, and raceid. Loadings > 0"
   ]
  },
  {
   "cell_type": "markdown",
   "metadata": {},
   "source": [
    "## Recursive feature elimiation (wrapper method)"
   ]
  },
  {
   "cell_type": "markdown",
   "metadata": {},
   "source": [
    "It is on optimization algorithm which aims to find the best performing feature subset. It repeatedly creates models and keeps aside the best or the worst performing feature at each iteration. It constructs the next model with the left features until all the features are exhausted. It then ranks the features based on the order of their elimination."
   ]
  },
  {
   "cell_type": "markdown",
   "metadata": {},
   "source": [
    "We only have 10 features from our datasets for the model but since all is important, let's check if this model requires all 10 features"
   ]
  },
  {
   "cell_type": "markdown",
   "metadata": {},
   "source": [
    "Calculate optimum number of features for the model"
   ]
  },
  {
   "cell_type": "code",
   "execution_count": 54,
   "metadata": {},
   "outputs": [
    {
     "name": "stdout",
     "output_type": "stream",
     "text": [
      "Optimum number of features: 10\n",
      "Score with 10 features: 0.836642\n"
     ]
    }
   ],
   "source": [
    "#no of features\n",
    "nof_list=np.arange(1,13)            \n",
    "high_score=0\n",
    "#Variable to store the optimum features\n",
    "nof=0           \n",
    "score_list =[]\n",
    "for n in range(len(nof_list)):\n",
    "    X_train, X_test, y_train, y_test = train_test_split(X,Y, test_size = 0.3, random_state = 0)\n",
    "    model = LinearRegression()\n",
    "    rfe = RFE(model,nof_list[n])\n",
    "    X_train_rfe = rfe.fit_transform(X_train,y_train)\n",
    "    X_test_rfe = rfe.transform(X_test)\n",
    "    model.fit(X_train_rfe,y_train)\n",
    "    score = model.score(X_test_rfe,y_test)\n",
    "    score_list.append(score)\n",
    "    if(score>high_score):\n",
    "        high_score = score\n",
    "        nof = nof_list[n]\n",
    "print(\"Optimum number of features: %d\" %nof)\n",
    "print(\"Score with %d features: %f\" % (nof, high_score))#no of features"
   ]
  },
  {
   "cell_type": "markdown",
   "metadata": {},
   "source": [
    "Calculate optimum number of features for the model"
   ]
  },
  {
   "cell_type": "markdown",
   "metadata": {},
   "source": [
    "Results show all 10 features all important"
   ]
  },
  {
   "cell_type": "code",
   "execution_count": 56,
   "metadata": {},
   "outputs": [
    {
     "name": "stdout",
     "output_type": "stream",
     "text": [
      "[False  True  True  True  True  True  True  True  True  True  True]\n",
      "[2 1 1 1 1 1 1 1 1 1 1]\n"
     ]
    }
   ],
   "source": [
    "# use sklearn for linear regression\n",
    "model.fit(X,Y)\n",
    "#initializing RFE model\n",
    "# RFE is recursive feature elimination\n",
    "# it removes attributes and building a model on those attributes that remain according to importance\n",
    "rfe = RFE(model, 10)\n",
    "X_rfe = rfe.fit_transform(X,Y)\n",
    "\n",
    "#fit data into model\n",
    "model.fit(X_rfe,Y)\n",
    "print(rfe.support_)\n",
    "print(rfe.ranking_)"
   ]
  },
  {
   "cell_type": "markdown",
   "metadata": {},
   "source": [
    "Results reveals that all features are important since first feature is just a constant number"
   ]
  },
  {
   "cell_type": "markdown",
   "metadata": {},
   "source": [
    "## Lasso Method"
   ]
  },
  {
   "cell_type": "markdown",
   "metadata": {},
   "source": [
    "#### RFE is giving importance to all variables. Now, let's check with Lasso model (embedded method)"
   ]
  },
  {
   "cell_type": "markdown",
   "metadata": {},
   "source": [
    "Lasso can reduce model complexity and prevent over-fitting which may result from simple linear regression"
   ]
  },
  {
   "cell_type": "code",
   "execution_count": 57,
   "metadata": {},
   "outputs": [
    {
     "name": "stdout",
     "output_type": "stream",
     "text": [
      "Best alpha using built-in LassoCV: 0.194744\n",
      "Best score using built-in LassoCV: 0.809230\n"
     ]
    }
   ],
   "source": [
    "reg = LassoCV()\n",
    "reg.fit(X, Y)\n",
    "print(\"Best alpha using built-in LassoCV: %f\" % reg.alpha_)\n",
    "print(\"Best score using built-in LassoCV: %f\" %reg.score(X,Y))\n",
    "coef = pd.Series(reg.coef_, index = X.columns)"
   ]
  },
  {
   "cell_type": "code",
   "execution_count": 58,
   "metadata": {},
   "outputs": [
    {
     "name": "stdout",
     "output_type": "stream",
     "text": [
      "Lasso picked 6 variables and eliminated the other 5 variables\n"
     ]
    }
   ],
   "source": [
    "print(\"Lasso picked \" + str(sum(coef != 0)) + \n",
    "      \" variables and eliminated the other \" +  str(sum(coef == 0)) + \" variables\")"
   ]
  },
  {
   "cell_type": "code",
   "execution_count": 59,
   "metadata": {},
   "outputs": [
    {
     "data": {
      "text/plain": [
       "Text(0.5, 1.0, 'Feature importance using Lasso Model')"
      ]
     },
     "execution_count": 59,
     "metadata": {},
     "output_type": "execute_result"
    },
    {
     "data": {
      "image/png": "[encoded data removed]",
      "text/plain": [
       "<Figure size 720x720 with 1 Axes>"
      ]
     },
     "metadata": {},
     "output_type": "display_data"
    }
   ],
   "source": [
    "imp_coef = coef.sort_values()\n",
    "rcParams['figure.figsize'] = (10.0, 10.0)\n",
    "imp_coef.plot(kind = \"barh\")\n",
    "plt.title(\"Feature importance using Lasso Model\")"
   ]
  },
  {
   "cell_type": "code",
   "execution_count": 60,
   "metadata": {},
   "outputs": [
    {
     "data": {
      "text/plain": [
       "mortality            -0.469994\n",
       "year                 -0.003444\n",
       "const                 0.000000\n",
       "raceid                0.000000\n",
       "genderid             -0.000000\n",
       "percentpopincome      0.000000\n",
       "hospitals_per_100k   -0.000000\n",
       "uninsuredrate         0.000030\n",
       "expend_per_cap        0.000123\n",
       "stateid               0.002240\n",
       "incomeid              0.462305\n",
       "dtype: float64"
      ]
     },
     "execution_count": 60,
     "metadata": {},
     "output_type": "execute_result"
    }
   ],
   "source": [
    "imp_coef"
   ]
  },
  {
   "cell_type": "markdown",
   "metadata": {},
   "source": [
    "Lasso ranks mortality first, followed by income, year, state, expenditure per capital income and uninsured rate (as long as it is not 0)"
   ]
  },
  {
   "cell_type": "markdown",
   "metadata": {},
   "source": [
    "#### Since Lasso selects a different features, let's fit the regression model by removing raceid, genderid, percentpopincome and hospitals"
   ]
  },
  {
   "cell_type": "markdown",
   "metadata": {},
   "source": [
    "# Finalizing features selection"
   ]
  },
  {
   "cell_type": "markdown",
   "metadata": {},
   "source": [
    "PCA1 and 4 rank expend_per_cap first, then year, state, mortality, genderid, percentpopincome, incomeid, and raceid. Loadings > 0"
   ]
  },
  {
   "cell_type": "markdown",
   "metadata": {},
   "source": [
    "Based on the three methods used above, these are the more important features (LASSO is the more robust feature selection followed by RFE and PCA so weightage will be given to LASSO first): \n",
    "- mortality (PCA, RFE, LASSO)\n",
    "- year (PCA, RFE, LASSO)\n",
    "- stateid (PCA, RFE, LASSO)\n",
    "- expenditure per capital income (PCA, RFE,LASSO) \n",
    "- incomeid (RFE, LASSO)\n",
    "- genderid (PCA, RFE)\n",
    "- percentpopincome (PCA, RFE)\n",
    "- raceid (PCA, RFE)\n",
    "\n",
    "So, uninsuredrate and hospitals per 100k will be remove from mode features"
   ]
  },
  {
   "cell_type": "code",
   "execution_count": 61,
   "metadata": {},
   "outputs": [
    {
     "data": {
      "text/html": [
       "<div>\n",
       "<style scoped>\n",
       "    .dataframe tbody tr th:only-of-type {\n",
       "        vertical-align: middle;\n",
       "    }\n",
       "\n",
       "    .dataframe tbody tr th {\n",
       "        vertical-align: top;\n",
       "    }\n",
       "\n",
       "    .dataframe thead th {\n",
       "        text-align: right;\n",
       "    }\n",
       "</style>\n",
       "<table border=\"1\" class=\"dataframe\">\n",
       "  <thead>\n",
       "    <tr style=\"text-align: right;\">\n",
       "      <th></th>\n",
       "      <th>const</th>\n",
       "      <th>mortality</th>\n",
       "      <th>year</th>\n",
       "      <th>stateid</th>\n",
       "      <th>expend_per_cap</th>\n",
       "      <th>incomeid</th>\n",
       "      <th>genderid</th>\n",
       "      <th>percentpopincome</th>\n",
       "      <th>raceid</th>\n",
       "    </tr>\n",
       "  </thead>\n",
       "  <tbody>\n",
       "    <tr>\n",
       "      <th>0</th>\n",
       "      <td>1.0</td>\n",
       "      <td>14.86</td>\n",
       "      <td>2008.0</td>\n",
       "      <td>1.0</td>\n",
       "      <td>6325.0</td>\n",
       "      <td>1.0</td>\n",
       "      <td>1.0</td>\n",
       "      <td>0.0</td>\n",
       "      <td>1.0</td>\n",
       "    </tr>\n",
       "    <tr>\n",
       "      <th>1</th>\n",
       "      <td>1.0</td>\n",
       "      <td>14.86</td>\n",
       "      <td>2009.0</td>\n",
       "      <td>1.0</td>\n",
       "      <td>6325.0</td>\n",
       "      <td>1.0</td>\n",
       "      <td>1.0</td>\n",
       "      <td>0.0</td>\n",
       "      <td>1.0</td>\n",
       "    </tr>\n",
       "    <tr>\n",
       "      <th>2</th>\n",
       "      <td>1.0</td>\n",
       "      <td>14.86</td>\n",
       "      <td>2010.0</td>\n",
       "      <td>1.0</td>\n",
       "      <td>6421.0</td>\n",
       "      <td>1.0</td>\n",
       "      <td>1.0</td>\n",
       "      <td>0.0</td>\n",
       "      <td>1.0</td>\n",
       "    </tr>\n",
       "    <tr>\n",
       "      <th>3</th>\n",
       "      <td>1.0</td>\n",
       "      <td>14.86</td>\n",
       "      <td>2011.0</td>\n",
       "      <td>1.0</td>\n",
       "      <td>6541.0</td>\n",
       "      <td>1.0</td>\n",
       "      <td>1.0</td>\n",
       "      <td>0.0</td>\n",
       "      <td>1.0</td>\n",
       "    </tr>\n",
       "    <tr>\n",
       "      <th>4</th>\n",
       "      <td>1.0</td>\n",
       "      <td>14.86</td>\n",
       "      <td>2012.0</td>\n",
       "      <td>1.0</td>\n",
       "      <td>6821.0</td>\n",
       "      <td>1.0</td>\n",
       "      <td>1.0</td>\n",
       "      <td>0.0</td>\n",
       "      <td>1.0</td>\n",
       "    </tr>\n",
       "  </tbody>\n",
       "</table>\n",
       "</div>"
      ],
      "text/plain": [
       "   const  mortality    year  stateid  expend_per_cap  incomeid  genderid  \\\n",
       "0    1.0      14.86  2008.0      1.0          6325.0       1.0       1.0   \n",
       "1    1.0      14.86  2009.0      1.0          6325.0       1.0       1.0   \n",
       "2    1.0      14.86  2010.0      1.0          6421.0       1.0       1.0   \n",
       "3    1.0      14.86  2011.0      1.0          6541.0       1.0       1.0   \n",
       "4    1.0      14.86  2012.0      1.0          6821.0       1.0       1.0   \n",
       "\n",
       "   percentpopincome  raceid  \n",
       "0               0.0     1.0  \n",
       "1               0.0     1.0  \n",
       "2               0.0     1.0  \n",
       "3               0.0     1.0  \n",
       "4               0.0     1.0  "
      ]
     },
     "execution_count": 61,
     "metadata": {},
     "output_type": "execute_result"
    }
   ],
   "source": [
    "X2= lifeexpfact_metadata[['mortality', 'year', 'stateid', 'expend_per_cap',\n",
    "                          'incomeid','genderid','percentpopincome',\n",
    "                         'raceid']].astype(float)\n",
    "#to include constant 1\n",
    "X2= sm.add_constant(X2)\n",
    "X2.head()"
   ]
  },
  {
   "cell_type": "markdown",
   "metadata": {},
   "source": [
    "# Fitting new linear model based on feature selection"
   ]
  },
  {
   "cell_type": "code",
   "execution_count": 62,
   "metadata": {
    "scrolled": true
   },
   "outputs": [
    {
     "data": {
      "text/html": [
       "<table class=\"simpletable\">\n",
       "<caption>OLS Regression Results</caption>\n",
       "<tr>\n",
       "  <th>Dep. Variable:</th>       <td>avg_lifeexp</td>   <th>  R-squared:         </th> <td>   0.834</td> \n",
       "</tr>\n",
       "<tr>\n",
       "  <th>Model:</th>                   <td>OLS</td>       <th>  Adj. R-squared:    </th> <td>   0.834</td> \n",
       "</tr>\n",
       "<tr>\n",
       "  <th>Method:</th>             <td>Least Squares</td>  <th>  F-statistic:       </th> <td>   7512.</td> \n",
       "</tr>\n",
       "<tr>\n",
       "  <th>Date:</th>             <td>Sun, 24 Nov 2019</td> <th>  Prob (F-statistic):</th>  <td>  0.00</td>  \n",
       "</tr>\n",
       "<tr>\n",
       "  <th>Time:</th>                 <td>22:01:18</td>     <th>  Log-Likelihood:    </th> <td> -15179.</td> \n",
       "</tr>\n",
       "<tr>\n",
       "  <th>No. Observations:</th>      <td> 12000</td>      <th>  AIC:               </th> <td>3.038e+04</td>\n",
       "</tr>\n",
       "<tr>\n",
       "  <th>Df Residuals:</th>          <td> 11991</td>      <th>  BIC:               </th> <td>3.044e+04</td>\n",
       "</tr>\n",
       "<tr>\n",
       "  <th>Df Model:</th>              <td>     8</td>      <th>                     </th>     <td> </td>    \n",
       "</tr>\n",
       "<tr>\n",
       "  <th>Covariance Type:</th>      <td>nonrobust</td>    <th>                     </th>     <td> </td>    \n",
       "</tr>\n",
       "</table>\n",
       "<table class=\"simpletable\">\n",
       "<tr>\n",
       "          <td></td>            <th>coef</th>     <th>std err</th>      <th>t</th>      <th>P>|t|</th>  <th>[0.025</th>    <th>0.975]</th>  \n",
       "</tr>\n",
       "<tr>\n",
       "  <th>const</th>            <td>  162.8561</td> <td>    6.615</td> <td>   24.620</td> <td> 0.000</td> <td>  149.890</td> <td>  175.822</td>\n",
       "</tr>\n",
       "<tr>\n",
       "  <th>mortality</th>        <td>   -0.5910</td> <td>    0.007</td> <td>  -81.697</td> <td> 0.000</td> <td>   -0.605</td> <td>   -0.577</td>\n",
       "</tr>\n",
       "<tr>\n",
       "  <th>year</th>             <td>   -0.0391</td> <td>    0.003</td> <td>  -11.855</td> <td> 0.000</td> <td>   -0.046</td> <td>   -0.033</td>\n",
       "</tr>\n",
       "<tr>\n",
       "  <th>stateid</th>          <td>    0.0027</td> <td>    0.001</td> <td>    5.448</td> <td> 0.000</td> <td>    0.002</td> <td>    0.004</td>\n",
       "</tr>\n",
       "<tr>\n",
       "  <th>expend_per_cap</th>   <td>    0.0002</td> <td> 7.08e-06</td> <td>   23.786</td> <td> 0.000</td> <td>    0.000</td> <td>    0.000</td>\n",
       "</tr>\n",
       "<tr>\n",
       "  <th>incomeid</th>         <td>    0.6145</td> <td>    0.007</td> <td>   87.688</td> <td> 0.000</td> <td>    0.601</td> <td>    0.628</td>\n",
       "</tr>\n",
       "<tr>\n",
       "  <th>genderid</th>         <td>    0.8084</td> <td>    0.053</td> <td>   15.368</td> <td> 0.000</td> <td>    0.705</td> <td>    0.912</td>\n",
       "</tr>\n",
       "<tr>\n",
       "  <th>percentpopincome</th> <td>    0.3953</td> <td>    0.032</td> <td>   12.529</td> <td> 0.000</td> <td>    0.333</td> <td>    0.457</td>\n",
       "</tr>\n",
       "<tr>\n",
       "  <th>raceid</th>           <td>    0.2563</td> <td>    0.010</td> <td>   26.725</td> <td> 0.000</td> <td>    0.237</td> <td>    0.275</td>\n",
       "</tr>\n",
       "</table>\n",
       "<table class=\"simpletable\">\n",
       "<tr>\n",
       "  <th>Omnibus:</th>       <td>1355.214</td> <th>  Durbin-Watson:     </th> <td>   0.075</td> \n",
       "</tr>\n",
       "<tr>\n",
       "  <th>Prob(Omnibus):</th>  <td> 0.000</td>  <th>  Jarque-Bera (JB):  </th> <td> 868.895</td> \n",
       "</tr>\n",
       "<tr>\n",
       "  <th>Skew:</th>           <td>-0.538</td>  <th>  Prob(JB):          </th> <td>2.10e-189</td>\n",
       "</tr>\n",
       "<tr>\n",
       "  <th>Kurtosis:</th>       <td> 2.239</td>  <th>  Cond. No.          </th> <td>6.97e+06</td> \n",
       "</tr>\n",
       "</table><br/><br/>Warnings:<br/>[1] Standard Errors assume that the covariance matrix of the errors is correctly specified.<br/>[2] The condition number is large, 6.97e+06. This might indicate that there are<br/>strong multicollinearity or other numerical problems."
      ],
      "text/plain": [
       "<class 'statsmodels.iolib.summary.Summary'>\n",
       "\"\"\"\n",
       "                            OLS Regression Results                            \n",
       "==============================================================================\n",
       "Dep. Variable:            avg_lifeexp   R-squared:                       0.834\n",
       "Model:                            OLS   Adj. R-squared:                  0.834\n",
       "Method:                 Least Squares   F-statistic:                     7512.\n",
       "Date:                Sun, 24 Nov 2019   Prob (F-statistic):               0.00\n",
       "Time:                        22:01:18   Log-Likelihood:                -15179.\n",
       "No. Observations:               12000   AIC:                         3.038e+04\n",
       "Df Residuals:                   11991   BIC:                         3.044e+04\n",
       "Df Model:                           8                                         \n",
       "Covariance Type:            nonrobust                                         \n",
       "====================================================================================\n",
       "                       coef    std err          t      P>|t|      [0.025      0.975]\n",
       "------------------------------------------------------------------------------------\n",
       "const              162.8561      6.615     24.620      0.000     149.890     175.822\n",
       "mortality           -0.5910      0.007    -81.697      0.000      -0.605      -0.577\n",
       "year                -0.0391      0.003    -11.855      0.000      -0.046      -0.033\n",
       "stateid              0.0027      0.001      5.448      0.000       0.002       0.004\n",
       "expend_per_cap       0.0002   7.08e-06     23.786      0.000       0.000       0.000\n",
       "incomeid             0.6145      0.007     87.688      0.000       0.601       0.628\n",
       "genderid             0.8084      0.053     15.368      0.000       0.705       0.912\n",
       "percentpopincome     0.3953      0.032     12.529      0.000       0.333       0.457\n",
       "raceid               0.2563      0.010     26.725      0.000       0.237       0.275\n",
       "==============================================================================\n",
       "Omnibus:                     1355.214   Durbin-Watson:                   0.075\n",
       "Prob(Omnibus):                  0.000   Jarque-Bera (JB):              868.895\n",
       "Skew:                          -0.538   Prob(JB):                    2.10e-189\n",
       "Kurtosis:                       2.239   Cond. No.                     6.97e+06\n",
       "==============================================================================\n",
       "\n",
       "Warnings:\n",
       "[1] Standard Errors assume that the covariance matrix of the errors is correctly specified.\n",
       "[2] The condition number is large, 6.97e+06. This might indicate that there are\n",
       "strong multicollinearity or other numerical problems.\n",
       "\"\"\""
      ]
     },
     "execution_count": 62,
     "metadata": {},
     "output_type": "execute_result"
    }
   ],
   "source": [
    "# fit the new linear regression model\n",
    "model = sm.OLS(Y,X2)\n",
    "results2 = model.fit()\n",
    "results2.summary()"
   ]
  },
  {
   "cell_type": "markdown",
   "metadata": {},
   "source": [
    "New linear model without features uninsured rate and and hospitals per 100k have a slightly lower Rsquared (0.834 compared to 0.836) but the standard errors are lower and coefficients are still significant."
   ]
  },
  {
   "cell_type": "markdown",
   "metadata": {},
   "source": [
    "# Converting coefficients of final model into weightage to estimate person's life expentancy in the US"
   ]
  },
  {
   "cell_type": "code",
   "execution_count": 63,
   "metadata": {},
   "outputs": [],
   "source": [
    "def get_coef_table(lin_reg):\n",
    "    ''' \n",
    "    Return a dataframe containing coefficients, pvalues, and the confidence intervals\n",
    "    '''\n",
    "    err_series = lin_reg.params - lin_reg.conf_int()[0]\n",
    "    coef_df = pd.DataFrame({'varname': err_series.index.values[1:],\n",
    "                            'coef': lin_reg.params.values[1:],\n",
    "                            'conf_int': err_series.values[1:],\n",
    "                            'pvalue': lin_reg.pvalues.round(4).values[1:]\n",
    "                           })\n",
    "    return coef_df"
   ]
  },
  {
   "cell_type": "code",
   "execution_count": 64,
   "metadata": {},
   "outputs": [
    {
     "data": {
      "text/html": [
       "<div>\n",
       "<style scoped>\n",
       "    .dataframe tbody tr th:only-of-type {\n",
       "        vertical-align: middle;\n",
       "    }\n",
       "\n",
       "    .dataframe tbody tr th {\n",
       "        vertical-align: top;\n",
       "    }\n",
       "\n",
       "    .dataframe thead th {\n",
       "        text-align: right;\n",
       "    }\n",
       "</style>\n",
       "<table border=\"1\" class=\"dataframe\">\n",
       "  <thead>\n",
       "    <tr style=\"text-align: right;\">\n",
       "      <th></th>\n",
       "      <th>varname</th>\n",
       "      <th>coef</th>\n",
       "      <th>percentage</th>\n",
       "    </tr>\n",
       "  </thead>\n",
       "  <tbody>\n",
       "    <tr>\n",
       "      <th>0</th>\n",
       "      <td>mortality</td>\n",
       "      <td>-0.590985</td>\n",
       "      <td>21.827379</td>\n",
       "    </tr>\n",
       "    <tr>\n",
       "      <th>1</th>\n",
       "      <td>year</td>\n",
       "      <td>-0.039138</td>\n",
       "      <td>1.445529</td>\n",
       "    </tr>\n",
       "    <tr>\n",
       "      <th>2</th>\n",
       "      <td>stateid</td>\n",
       "      <td>0.002736</td>\n",
       "      <td>0.101034</td>\n",
       "    </tr>\n",
       "    <tr>\n",
       "      <th>3</th>\n",
       "      <td>expend_per_cap</td>\n",
       "      <td>0.000169</td>\n",
       "      <td>0.006224</td>\n",
       "    </tr>\n",
       "    <tr>\n",
       "      <th>4</th>\n",
       "      <td>incomeid</td>\n",
       "      <td>0.614526</td>\n",
       "      <td>22.696859</td>\n",
       "    </tr>\n",
       "    <tr>\n",
       "      <th>5</th>\n",
       "      <td>genderid</td>\n",
       "      <td>0.808401</td>\n",
       "      <td>29.857399</td>\n",
       "    </tr>\n",
       "    <tr>\n",
       "      <th>6</th>\n",
       "      <td>percentpopincome</td>\n",
       "      <td>0.395335</td>\n",
       "      <td>14.601260</td>\n",
       "    </tr>\n",
       "    <tr>\n",
       "      <th>7</th>\n",
       "      <td>raceid</td>\n",
       "      <td>0.256250</td>\n",
       "      <td>9.464316</td>\n",
       "    </tr>\n",
       "  </tbody>\n",
       "</table>\n",
       "</div>"
      ],
      "text/plain": [
       "            varname      coef  percentage\n",
       "0         mortality -0.590985   21.827379\n",
       "1              year -0.039138    1.445529\n",
       "2           stateid  0.002736    0.101034\n",
       "3    expend_per_cap  0.000169    0.006224\n",
       "4          incomeid  0.614526   22.696859\n",
       "5          genderid  0.808401   29.857399\n",
       "6  percentpopincome  0.395335   14.601260\n",
       "7            raceid  0.256250    9.464316"
      ]
     },
     "execution_count": 64,
     "metadata": {},
     "output_type": "execute_result"
    }
   ],
   "source": [
    "# to get the coefficients\n",
    "coef = get_coef_table(results2)[['varname','coef']]\n",
    "# converting each coefficient value into percentage of total coefficients value\n",
    "total_coef = sum(abs(coef['coef']))\n",
    "coef['percentage']= (abs(coef[['coef']])/total_coef)*100\n",
    "coef"
   ]
  },
  {
   "cell_type": "code",
   "execution_count": 65,
   "metadata": {},
   "outputs": [
    {
     "data": {
      "text/plain": [
       "100.0"
      ]
     },
     "execution_count": 65,
     "metadata": {},
     "output_type": "execute_result"
    }
   ],
   "source": [
    "sum(coef['percentage'])"
   ]
  },
  {
   "cell_type": "code",
   "execution_count": 66,
   "metadata": {},
   "outputs": [
    {
     "name": "stdout",
     "output_type": "stream",
     "text": [
      "Weightage for state's life expectancy is  1.553 %\n"
     ]
    }
   ],
   "source": [
    "# weightage for state_life expectancy will be contributed by year, state, expend_per_cap\n",
    "# year is included here because year has higher correlation with expend and uninsured\n",
    "weightage_for_state = coef.iloc[1,2]+coef.iloc[2,2]+coef.iloc[3,2]\n",
    "print(\"Weightage for state's life expectancy is \", \n",
    "      round(weightage_for_state,3), \"%\")"
   ]
  },
  {
   "cell_type": "code",
   "execution_count": 67,
   "metadata": {},
   "outputs": [
    {
     "name": "stdout",
     "output_type": "stream",
     "text": [
      "Weightage for gender's life expectancy is  51.685 %\n"
     ]
    }
   ],
   "source": [
    "# weightage for gender_life expectancy will be contributed by gender and mortality\n",
    "# mortality is tied to dim_gender\n",
    "weightage_for_gender = coef.iloc[0,2]+coef.iloc[5,2]\n",
    "print(\"Weightage for gender's life expectancy is \", \n",
    "      round(weightage_for_gender,3), \"%\")"
   ]
  },
  {
   "cell_type": "code",
   "execution_count": 68,
   "metadata": {},
   "outputs": [
    {
     "name": "stdout",
     "output_type": "stream",
     "text": [
      "Weightage for income's life expectancy is  37.298 %\n"
     ]
    }
   ],
   "source": [
    "# weightage for income_life expectancy will be contributed by incomebracket and percentpopincome\n",
    "weightage_for_income = coef.iloc[4,2]+coef.iloc[6,2]\n",
    "print(\"Weightage for income's life expectancy is \", \n",
    "      round(weightage_for_income,3), \"%\")"
   ]
  },
  {
   "cell_type": "code",
   "execution_count": 69,
   "metadata": {},
   "outputs": [
    {
     "name": "stdout",
     "output_type": "stream",
     "text": [
      "Weightage for race's life expectancy is  9.464 %\n"
     ]
    }
   ],
   "source": [
    "# weightage for race_life expectancy will be contributed by race\n",
    "weightage_for_race = coef.iloc[7,2]\n",
    "print(\"Weightage for race's life expectancy is \", \n",
    "      round(weightage_for_race,3), \"%\")"
   ]
  },
  {
   "cell_type": "markdown",
   "metadata": {},
   "source": [
    "# Populate facttable's person's life expectancy with new weightage"
   ]
  },
  {
   "cell_type": "code",
   "execution_count": 71,
   "metadata": {},
   "outputs": [
    {
     "data": {
      "text/html": [
       "<div>\n",
       "<style scoped>\n",
       "    .dataframe tbody tr th:only-of-type {\n",
       "        vertical-align: middle;\n",
       "    }\n",
       "\n",
       "    .dataframe tbody tr th {\n",
       "        vertical-align: top;\n",
       "    }\n",
       "\n",
       "    .dataframe thead th {\n",
       "        text-align: right;\n",
       "    }\n",
       "</style>\n",
       "<table border=\"1\" class=\"dataframe\">\n",
       "  <thead>\n",
       "    <tr style=\"text-align: right;\">\n",
       "      <th></th>\n",
       "      <th>genderid</th>\n",
       "      <th>raceid</th>\n",
       "      <th>stateid</th>\n",
       "      <th>incomeid</th>\n",
       "      <th>year</th>\n",
       "      <th>avg_lifeexp</th>\n",
       "    </tr>\n",
       "  </thead>\n",
       "  <tbody>\n",
       "    <tr>\n",
       "      <th>0</th>\n",
       "      <td>1</td>\n",
       "      <td>1</td>\n",
       "      <td>1</td>\n",
       "      <td>1</td>\n",
       "      <td>2008</td>\n",
       "      <td>77.998259</td>\n",
       "    </tr>\n",
       "    <tr>\n",
       "      <th>1</th>\n",
       "      <td>1</td>\n",
       "      <td>1</td>\n",
       "      <td>1</td>\n",
       "      <td>1</td>\n",
       "      <td>2009</td>\n",
       "      <td>78.000589</td>\n",
       "    </tr>\n",
       "    <tr>\n",
       "      <th>2</th>\n",
       "      <td>1</td>\n",
       "      <td>1</td>\n",
       "      <td>1</td>\n",
       "      <td>1</td>\n",
       "      <td>2010</td>\n",
       "      <td>78.004471</td>\n",
       "    </tr>\n",
       "    <tr>\n",
       "      <th>3</th>\n",
       "      <td>1</td>\n",
       "      <td>1</td>\n",
       "      <td>1</td>\n",
       "      <td>1</td>\n",
       "      <td>2011</td>\n",
       "      <td>78.004471</td>\n",
       "    </tr>\n",
       "    <tr>\n",
       "      <th>4</th>\n",
       "      <td>1</td>\n",
       "      <td>1</td>\n",
       "      <td>1</td>\n",
       "      <td>1</td>\n",
       "      <td>2012</td>\n",
       "      <td>78.005558</td>\n",
       "    </tr>\n",
       "  </tbody>\n",
       "</table>\n",
       "</div>"
      ],
      "text/plain": [
       "   genderid  raceid  stateid  incomeid  year  avg_lifeexp\n",
       "0         1       1        1         1  2008    77.998259\n",
       "1         1       1        1         1  2009    78.000589\n",
       "2         1       1        1         1  2010    78.004471\n",
       "3         1       1        1         1  2011    78.004471\n",
       "4         1       1        1         1  2012    78.005558"
      ]
     },
     "execution_count": 71,
     "metadata": {},
     "output_type": "execute_result"
    }
   ],
   "source": [
    "# testing quality of results by querying from dimensional tables first\n",
    "sql = \"SELECT g.genderid, r.raceid, s.stateid,i.incomeid, y.year,  \\\n",
    "        ((0.51586*g.gender_lifeexp)+(0.37298*i.income_lifeexp)+(0.09464*r.race_lifeexp)+(0.01553*s.state_lifeexp)) as avg_lifeexp \\\n",
    "    FROM dim_year y       \\\n",
    "        INNER JOIN dim_state s ON s.year = y.year           \\\n",
    "        INNER JOIN dim_income i ON i.stateid = s.stateid    \\\n",
    "        INNER JOIN dim_gender g ON g.stateid = i.stateid    \\\n",
    "        INNER JOIN dim_race r ON g.genderid = r.genderid    \\\n",
    "        WHERE y.year >= '2008'                  \\\n",
    "    GROUP BY g.genderid, r.raceid, s.stateid, i.incomeid, s.uninsuredrate, y.year;\"\n",
    "\n",
    "revised_lifeexpfact = qry(sql)\n",
    "revised_lifeexpfact.head()"
   ]
  },
  {
   "cell_type": "code",
   "execution_count": 72,
   "metadata": {},
   "outputs": [
    {
     "data": {
      "text/plain": [
       "(16320, 6)"
      ]
     },
     "execution_count": 72,
     "metadata": {},
     "output_type": "execute_result"
    }
   ],
   "source": [
    "revised_lifeexpfact.shape"
   ]
  },
  {
   "cell_type": "markdown",
   "metadata": {},
   "source": [
    "Checking the reasonableness of the data by each dimension"
   ]
  },
  {
   "cell_type": "code",
   "execution_count": 73,
   "metadata": {},
   "outputs": [],
   "source": [
    "train_revised_lifeexpfact = revised_lifeexpfact.dropna()\n",
    "test_revised_lifeexpfact = revised_lifeexpfact[pd.isnull(revised_lifeexpfact).any(axis=1)]"
   ]
  },
  {
   "cell_type": "code",
   "execution_count": 74,
   "metadata": {},
   "outputs": [
    {
     "data": {
      "text/html": [
       "<div>\n",
       "<style scoped>\n",
       "    .dataframe tbody tr th:only-of-type {\n",
       "        vertical-align: middle;\n",
       "    }\n",
       "\n",
       "    .dataframe tbody tr th {\n",
       "        vertical-align: top;\n",
       "    }\n",
       "\n",
       "    .dataframe thead th {\n",
       "        text-align: right;\n",
       "    }\n",
       "</style>\n",
       "<table border=\"1\" class=\"dataframe\">\n",
       "  <thead>\n",
       "    <tr style=\"text-align: right;\">\n",
       "      <th></th>\n",
       "      <th>avg_lifeexp</th>\n",
       "    </tr>\n",
       "    <tr>\n",
       "      <th>genderid</th>\n",
       "      <th></th>\n",
       "    </tr>\n",
       "  </thead>\n",
       "  <tbody>\n",
       "    <tr>\n",
       "      <th>1</th>\n",
       "      <td>80.283827</td>\n",
       "    </tr>\n",
       "    <tr>\n",
       "      <th>2</th>\n",
       "      <td>75.901163</td>\n",
       "    </tr>\n",
       "  </tbody>\n",
       "</table>\n",
       "</div>"
      ],
      "text/plain": [
       "          avg_lifeexp\n",
       "genderid             \n",
       "1           80.283827\n",
       "2           75.901163"
      ]
     },
     "execution_count": 74,
     "metadata": {},
     "output_type": "execute_result"
    }
   ],
   "source": [
    "by_gender_revised = train_revised_lifeexpfact[['genderid','avg_lifeexp']].groupby('genderid').mean()\n",
    "by_gender_revised.sort_values(by=['avg_lifeexp'], ascending=False)"
   ]
  },
  {
   "cell_type": "markdown",
   "metadata": {},
   "source": [
    "Female is has higher life expectancy but the gap is wider and pre-revised life expectancy figures"
   ]
  },
  {
   "cell_type": "code",
   "execution_count": 75,
   "metadata": {},
   "outputs": [
    {
     "data": {
      "text/html": [
       "<div>\n",
       "<style scoped>\n",
       "    .dataframe tbody tr th:only-of-type {\n",
       "        vertical-align: middle;\n",
       "    }\n",
       "\n",
       "    .dataframe tbody tr th {\n",
       "        vertical-align: top;\n",
       "    }\n",
       "\n",
       "    .dataframe thead th {\n",
       "        text-align: right;\n",
       "    }\n",
       "</style>\n",
       "<table border=\"1\" class=\"dataframe\">\n",
       "  <thead>\n",
       "    <tr style=\"text-align: right;\">\n",
       "      <th></th>\n",
       "      <th>avg_lifeexp</th>\n",
       "    </tr>\n",
       "    <tr>\n",
       "      <th>raceid</th>\n",
       "      <th></th>\n",
       "    </tr>\n",
       "  </thead>\n",
       "  <tbody>\n",
       "    <tr>\n",
       "      <th>3</th>\n",
       "      <td>78.385879</td>\n",
       "    </tr>\n",
       "    <tr>\n",
       "      <th>1</th>\n",
       "      <td>78.191867</td>\n",
       "    </tr>\n",
       "    <tr>\n",
       "      <th>2</th>\n",
       "      <td>77.699739</td>\n",
       "    </tr>\n",
       "  </tbody>\n",
       "</table>\n",
       "</div>"
      ],
      "text/plain": [
       "        avg_lifeexp\n",
       "raceid             \n",
       "3         78.385879\n",
       "1         78.191867\n",
       "2         77.699739"
      ]
     },
     "execution_count": 75,
     "metadata": {},
     "output_type": "execute_result"
    }
   ],
   "source": [
    "by_race_revised = train_revised_lifeexpfact[['raceid','avg_lifeexp']].groupby('raceid').mean()\n",
    "by_race_revised.sort_values(by=['avg_lifeexp'], ascending=False)\n",
    "#raceid 1 = white, raceid 2 = black, raceid 3 = hispanics, raceid 4 = asian\n",
    "# asian has no data heredue to null values"
   ]
  },
  {
   "cell_type": "markdown",
   "metadata": {},
   "source": [
    "Hispanics has the highest life expectancy similar to pre-revised life expectancy"
   ]
  },
  {
   "cell_type": "code",
   "execution_count": 76,
   "metadata": {},
   "outputs": [
    {
     "data": {
      "text/html": [
       "<div>\n",
       "<style scoped>\n",
       "    .dataframe tbody tr th:only-of-type {\n",
       "        vertical-align: middle;\n",
       "    }\n",
       "\n",
       "    .dataframe tbody tr th {\n",
       "        vertical-align: top;\n",
       "    }\n",
       "\n",
       "    .dataframe thead th {\n",
       "        text-align: right;\n",
       "    }\n",
       "</style>\n",
       "<table border=\"1\" class=\"dataframe\">\n",
       "  <thead>\n",
       "    <tr style=\"text-align: right;\">\n",
       "      <th></th>\n",
       "      <th>avg_lifeexp</th>\n",
       "    </tr>\n",
       "    <tr>\n",
       "      <th>incomeid</th>\n",
       "      <th></th>\n",
       "    </tr>\n",
       "  </thead>\n",
       "  <tbody>\n",
       "    <tr>\n",
       "      <th>4</th>\n",
       "      <td>79.349885</td>\n",
       "    </tr>\n",
       "    <tr>\n",
       "      <th>3</th>\n",
       "      <td>78.619143</td>\n",
       "    </tr>\n",
       "    <tr>\n",
       "      <th>2</th>\n",
       "      <td>77.877808</td>\n",
       "    </tr>\n",
       "    <tr>\n",
       "      <th>1</th>\n",
       "      <td>76.523145</td>\n",
       "    </tr>\n",
       "  </tbody>\n",
       "</table>\n",
       "</div>"
      ],
      "text/plain": [
       "          avg_lifeexp\n",
       "incomeid             \n",
       "4           79.349885\n",
       "3           78.619143\n",
       "2           77.877808\n",
       "1           76.523145"
      ]
     },
     "execution_count": 76,
     "metadata": {},
     "output_type": "execute_result"
    }
   ],
   "source": [
    "by_income_revised = train_revised_lifeexpfact[['incomeid','avg_lifeexp']].groupby('incomeid').mean()\n",
    "by_income_revised.sort_values(by=['avg_lifeexp'], ascending=False)"
   ]
  },
  {
   "cell_type": "markdown",
   "metadata": {},
   "source": [
    "Higher income results in higher life expectancy, similar to pre-revised life expectancy figures"
   ]
  },
  {
   "cell_type": "code",
   "execution_count": 78,
   "metadata": {},
   "outputs": [
    {
     "data": {
      "text/html": [
       "<div>\n",
       "<style scoped>\n",
       "    .dataframe tbody tr th:only-of-type {\n",
       "        vertical-align: middle;\n",
       "    }\n",
       "\n",
       "    .dataframe tbody tr th {\n",
       "        vertical-align: top;\n",
       "    }\n",
       "\n",
       "    .dataframe thead th {\n",
       "        text-align: right;\n",
       "    }\n",
       "</style>\n",
       "<table border=\"1\" class=\"dataframe\">\n",
       "  <thead>\n",
       "    <tr style=\"text-align: right;\">\n",
       "      <th></th>\n",
       "      <th>avg_lifeexp</th>\n",
       "    </tr>\n",
       "    <tr>\n",
       "      <th>stateid</th>\n",
       "      <th></th>\n",
       "    </tr>\n",
       "  </thead>\n",
       "  <tbody>\n",
       "    <tr>\n",
       "      <th>49</th>\n",
       "      <td>79.609767</td>\n",
       "    </tr>\n",
       "    <tr>\n",
       "      <th>27</th>\n",
       "      <td>79.398360</td>\n",
       "    </tr>\n",
       "    <tr>\n",
       "      <th>16</th>\n",
       "      <td>79.351910</td>\n",
       "    </tr>\n",
       "    <tr>\n",
       "      <th>31</th>\n",
       "      <td>79.279206</td>\n",
       "    </tr>\n",
       "    <tr>\n",
       "      <th>46</th>\n",
       "      <td>79.270818</td>\n",
       "    </tr>\n",
       "  </tbody>\n",
       "</table>\n",
       "</div>"
      ],
      "text/plain": [
       "         avg_lifeexp\n",
       "stateid             \n",
       "49         79.609767\n",
       "27         79.398360\n",
       "16         79.351910\n",
       "31         79.279206\n",
       "46         79.270818"
      ]
     },
     "execution_count": 78,
     "metadata": {},
     "output_type": "execute_result"
    }
   ],
   "source": [
    "by_state_revised = train_revised_lifeexpfact[['stateid','avg_lifeexp']].groupby('stateid').mean()\n",
    "by_state_revised.sort_values(by=['avg_lifeexp'], ascending=False).head()"
   ]
  },
  {
   "cell_type": "markdown",
   "metadata": {},
   "source": [
    "Ranking changes after life expectancy figures are revised.\n",
    "Pre-revised rankings: 1. Minnesota, 2. Utah, 3. Vermont, 4. Hawaii and 5. Colorado\n",
    "Rankings after revision: 1. Utah, 2. Minnesota, 3. Idaho, 4.Nebraska, and 5. South Dakota "
   ]
  },
  {
   "cell_type": "code",
   "execution_count": 79,
   "metadata": {},
   "outputs": [
    {
     "data": {
      "text/html": [
       "<div>\n",
       "<style scoped>\n",
       "    .dataframe tbody tr th:only-of-type {\n",
       "        vertical-align: middle;\n",
       "    }\n",
       "\n",
       "    .dataframe tbody tr th {\n",
       "        vertical-align: top;\n",
       "    }\n",
       "\n",
       "    .dataframe thead th {\n",
       "        text-align: right;\n",
       "    }\n",
       "</style>\n",
       "<table border=\"1\" class=\"dataframe\">\n",
       "  <thead>\n",
       "    <tr style=\"text-align: right;\">\n",
       "      <th></th>\n",
       "      <th>avg_lifeexp</th>\n",
       "    </tr>\n",
       "    <tr>\n",
       "      <th>year</th>\n",
       "      <th></th>\n",
       "    </tr>\n",
       "  </thead>\n",
       "  <tbody>\n",
       "    <tr>\n",
       "      <th>2008</th>\n",
       "      <td>78.36305</td>\n",
       "    </tr>\n",
       "    <tr>\n",
       "      <th>2009</th>\n",
       "      <td>78.40680</td>\n",
       "    </tr>\n",
       "    <tr>\n",
       "      <th>2010</th>\n",
       "      <td>78.47120</td>\n",
       "    </tr>\n",
       "    <tr>\n",
       "      <th>2011</th>\n",
       "      <td>78.47645</td>\n",
       "    </tr>\n",
       "    <tr>\n",
       "      <th>2012</th>\n",
       "      <td>78.50510</td>\n",
       "    </tr>\n",
       "    <tr>\n",
       "      <th>2013</th>\n",
       "      <td>78.51340</td>\n",
       "    </tr>\n",
       "    <tr>\n",
       "      <th>2014</th>\n",
       "      <td>78.50900</td>\n",
       "    </tr>\n",
       "    <tr>\n",
       "      <th>2015</th>\n",
       "      <td>78.46765</td>\n",
       "    </tr>\n",
       "    <tr>\n",
       "      <th>2016</th>\n",
       "      <td>78.43445</td>\n",
       "    </tr>\n",
       "    <tr>\n",
       "      <th>2017</th>\n",
       "      <td>78.42660</td>\n",
       "    </tr>\n",
       "  </tbody>\n",
       "</table>\n",
       "</div>"
      ],
      "text/plain": [
       "      avg_lifeexp\n",
       "year             \n",
       "2008     78.36305\n",
       "2009     78.40680\n",
       "2010     78.47120\n",
       "2011     78.47645\n",
       "2012     78.50510\n",
       "2013     78.51340\n",
       "2014     78.50900\n",
       "2015     78.46765\n",
       "2016     78.43445\n",
       "2017     78.42660"
      ]
     },
     "execution_count": 79,
     "metadata": {},
     "output_type": "execute_result"
    }
   ],
   "source": [
    "by_year_revised = train_revised_lifeexpfact[['year','avg_lifeexp']].groupby('year').mean()\n",
    "by_year_revised = pd.DataFrame(by_year)\n",
    "by_year_revised"
   ]
  },
  {
   "cell_type": "markdown",
   "metadata": {},
   "source": [
    "Life expectancy is still highest in 2013 and 2014 and started to decline from 2015 to 2017, similar to pre-revised life expectancy"
   ]
  },
  {
   "cell_type": "markdown",
   "metadata": {},
   "source": [
    "After quality check, we can apply the new weightage to run DML for fact-table lifeexpectancy"
   ]
  },
  {
   "cell_type": "markdown",
   "metadata": {},
   "source": [
    "# Model for future work"
   ]
  },
  {
   "cell_type": "markdown",
   "metadata": {},
   "source": [
    "This model can be used to estimate for life expectancy after 2017 when the data needed for the features are available post 2017"
   ]
  }
 ],
 "metadata": {
  "anaconda-cloud": {},
  "kernelspec": {
   "display_name": "Python 3",
   "language": "python",
   "name": "python3"
  },
  "language_info": {
   "codemirror_mode": {
    "name": "ipython",
    "version": 3
   },
   "file_extension": ".py",
   "mimetype": "text/x-python",
   "name": "python",
   "nbconvert_exporter": "python",
   "pygments_lexer": "ipython3",
   "version": "3.7.3"
  }
 },
 "nbformat": 4,
 "nbformat_minor": 1
}
